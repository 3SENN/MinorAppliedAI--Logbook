{
 "cells": [
  {
   "cell_type": "markdown",
   "metadata": {
    "id": "YWx0sBWcsZ7V"
   },
   "source": [
    "# Classificatie met ResNet\n",
    "\n",
    "- Minor Applied AI\n",
    "- 14 march 2023\n",
    "- Frank Aldershoff & Michiel Bontenbal\n"
   ]
  },
  {
   "cell_type": "markdown",
   "metadata": {
    "id": "A3w8BVCdL6Od"
   },
   "source": [
    "## Importeer libraries"
   ]
  },
  {
   "cell_type": "code",
   "execution_count": 5,
   "metadata": {
    "id": "NyE98lqHssFF"
   },
   "outputs": [],
   "source": [
    "import numpy as np\n",
    "%matplotlib inline\n",
    "import matplotlib.pyplot as plt\n",
    "from matplotlib.image import imread\n",
    "\n",
    "from sklearn.datasets import load_sample_image\n",
    "import tensorflow as tf\n",
    "from tensorflow import keras"
   ]
  },
  {
   "cell_type": "markdown",
   "metadata": {
    "id": "0u3MCc2KL-KF"
   },
   "source": [
    "## Laad en toon foto's"
   ]
  },
  {
   "cell_type": "code",
   "execution_count": 6,
   "metadata": {
    "id": "esCbRPLxsYq1"
   },
   "outputs": [
    {
     "name": "stdout",
     "output_type": "stream",
     "text": [
      "(1062, 1600, 3)\n"
     ]
    },
    {
     "ename": "ValueError",
     "evalue": "setting an array element with a sequence. The requested array has an inhomogeneous shape after 1 dimensions. The detected shape was (3,) + inhomogeneous part.",
     "output_type": "error",
     "traceback": [
      "\u001B[1;31m---------------------------------------------------------------------------\u001B[0m",
      "\u001B[1;31mValueError\u001B[0m                                Traceback (most recent call last)",
      "Cell \u001B[1;32mIn[6], line 5\u001B[0m\n\u001B[0;32m      3\u001B[0m elephant \u001B[38;5;241m=\u001B[39m imread(\u001B[38;5;124m\"\u001B[39m\u001B[38;5;124melephant.jpg\u001B[39m\u001B[38;5;124m\"\u001B[39m) \n\u001B[0;32m      4\u001B[0m \u001B[38;5;28mprint\u001B[39m(elephant\u001B[38;5;241m.\u001B[39mshape)\n\u001B[1;32m----> 5\u001B[0m images \u001B[38;5;241m=\u001B[39m \u001B[43mnp\u001B[49m\u001B[38;5;241;43m.\u001B[39;49m\u001B[43marray\u001B[49m\u001B[43m(\u001B[49m\u001B[43m[\u001B[49m\u001B[43mchina\u001B[49m\u001B[43m,\u001B[49m\u001B[43m \u001B[49m\u001B[43mflower\u001B[49m\u001B[43m,\u001B[49m\u001B[43m \u001B[49m\u001B[43melephant\u001B[49m\u001B[43m]\u001B[49m\u001B[43m)\u001B[49m\n\u001B[0;32m      7\u001B[0m batch_size, height, width, channels \u001B[38;5;241m=\u001B[39m images\u001B[38;5;241m.\u001B[39mshape\n\u001B[0;32m      8\u001B[0m \u001B[38;5;28mprint\u001B[39m(images\u001B[38;5;241m.\u001B[39mshape)\n",
      "\u001B[1;31mValueError\u001B[0m: setting an array element with a sequence. The requested array has an inhomogeneous shape after 1 dimensions. The detected shape was (3,) + inhomogeneous part."
     ]
    }
   ],
   "source": [
    "china = load_sample_image(\"china.jpg\")\n",
    "flower = load_sample_image(\"flower.jpg\")\n",
    "elephant = imread(\"elephant.jpg\") \n",
    "print(elephant.shape)\n",
    "images = np.array([china, flower, elephant])\n",
    "\n",
    "batch_size, height, width, channels = images.shape\n",
    "print(images.shape)\n",
    "\n",
    "plt.imshow(images[0, :, :, :])\n",
    "plt.axis(\"off\") \n",
    "plt.show()\n",
    "\n",
    "plt.imshow(images[1, :, :, :]) \n",
    "plt.axis(\"off\") \n",
    "plt.show()\n",
    "\n",
    "plt.imshow(images[2, :, :, :]) \n",
    "plt.axis(\"off\") \n",
    "plt.show()"
   ]
  },
  {
   "cell_type": "markdown",
   "metadata": {
    "id": "H7Flk6qtb90q"
   },
   "source": [
    "## Wijzig formaat van foto's"
   ]
  },
  {
   "cell_type": "code",
   "execution_count": null,
   "metadata": {
    "id": "5tqSX0OQuJ0G"
   },
   "outputs": [],
   "source": [
    "images_resized = tf.image.resize(images, [224, 224])\n",
    "#images_resized = tf.image.resize_with_pad(images, 224, 224)\n",
    "#images_resized = tf.image.resize_with_crop_or_pad(images, 224, 224)\n",
    "\n",
    "plt.imshow(images_resized[0, :, :, :]/255)\n",
    "plt.axis(\"off\") \n",
    "plt.show()\n",
    "\n",
    "plt.imshow(images_resized[1, :, :, :]/255) \n",
    "plt.axis(\"off\") \n",
    "plt.show()\n",
    "\n",
    "plt.imshow(images_resized[2, :, :, :]/255) \n",
    "plt.axis(\"off\") \n",
    "plt.show()"
   ]
  },
  {
   "cell_type": "markdown",
   "metadata": {
    "id": "UrOY1_o9MBqo"
   },
   "source": [
    "## Laad pre-trained model\n",
    "\n",
    "zie https://keras.io/api/applications/\n"
   ]
  },
  {
   "cell_type": "code",
   "execution_count": null,
   "metadata": {
    "colab": {
     "base_uri": "https://localhost:8080/"
    },
    "id": "vt7UHWPKso7c",
    "outputId": "db0afb8e-12ca-41df-8ea9-542cb07f76c7"
   },
   "outputs": [],
   "source": [
    "model = keras.applications.resnet50.ResNet50(weights=\"imagenet\")"
   ]
  },
  {
   "cell_type": "markdown",
   "metadata": {
    "id": "3ExyF5FFcja7"
   },
   "source": [
    "## Bepaal classificatie van de afbeeldingen met ResNet50"
   ]
  },
  {
   "cell_type": "code",
   "execution_count": null,
   "metadata": {
    "colab": {
     "base_uri": "https://localhost:8080/"
    },
    "id": "g7mXxrMzxZZI",
    "outputId": "c2cdc351-5d64-4a06-fe0a-dadaf6dac95a"
   },
   "outputs": [],
   "source": [
    "inputs = keras.applications.resnet50.preprocess_input(images_resized)\n",
    "\n",
    "Y_proba = model.predict(inputs, steps=1)\n",
    "\n",
    "top_K = keras.applications.resnet50.decode_predictions(Y_proba, top=5)\n",
    "\n",
    "for image_index in range(len(images)):\n",
    "    print(\"Image #{}\".format(image_index))\n",
    "    for class_id, name, y_proba in top_K[image_index]:\n",
    "        print(\"  {} - {:12s} {:.2f}%\".format(class_id, name, y_proba * 100))\n",
    "    print()"
   ]
  },
  {
   "cell_type": "markdown",
   "metadata": {
    "id": "O4RC0rxPQTgO"
   },
   "source": [
    "**OPDRACHT**: wat is de invloed van de verschillende manieren van \"resizen\" op de classificatie?"
   ]
  }
 ],
 "metadata": {
  "colab": {
   "collapsed_sections": [],
   "name": "2021_03_16_objectherkenning_ResNet50_opdracht.ipynb",
   "provenance": []
  },
  "kernelspec": {
   "display_name": "Python 3 (ipykernel)",
   "language": "python",
   "name": "python3"
  },
  "language_info": {
   "codemirror_mode": {
    "name": "ipython",
    "version": 3
   },
   "file_extension": ".py",
   "mimetype": "text/x-python",
   "name": "python",
   "nbconvert_exporter": "python",
   "pygments_lexer": "ipython3",
   "version": "3.9.13"
  }
 },
 "nbformat": 4,
 "nbformat_minor": 1
}
