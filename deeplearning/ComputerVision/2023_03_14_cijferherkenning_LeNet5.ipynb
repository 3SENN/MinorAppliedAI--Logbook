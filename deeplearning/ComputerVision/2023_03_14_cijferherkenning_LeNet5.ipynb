{
 "cells": [
  {
   "cell_type": "markdown",
   "metadata": {
    "id": "zUWF7J_ASRv3"
   },
   "source": [
    "# Herkenning van cijfers met CNNs\n",
    "\n",
    "- Minor Applied Artificial Intelligence 2023\n",
    "- 14 maart 2023\n",
    "- Frank Aldershoff & Michiel Bontenbal"
   ]
  },
  {
   "cell_type": "markdown",
   "metadata": {
    "id": "cRKUniK0SfRg"
   },
   "source": [
    "## Importeer libraries"
   ]
  },
  {
   "cell_type": "code",
   "execution_count": 12,
   "metadata": {
    "id": "S-aMKgrbSl6I"
   },
   "outputs": [],
   "source": [
    "import numpy as np\n",
    "import matplotlib.pyplot as plt\n",
    "\n",
    "from keras.datasets import mnist\n",
    "\n",
    "from tensorflow.keras.utils import to_categorical\n",
    "\n",
    "from keras import models\n",
    "from keras import layers\n",
    "\n",
    "from keras.layers import Dense, Dropout, Flatten, Conv2D, MaxPooling2D, AveragePooling2D\n"
   ]
  },
  {
   "cell_type": "markdown",
   "metadata": {
    "id": "oe0on0c2StYe"
   },
   "source": [
    "## Verover de data"
   ]
  },
  {
   "cell_type": "code",
   "execution_count": 13,
   "metadata": {
    "id": "gh2EoCY-Ssg7"
   },
   "outputs": [],
   "source": [
    "(train_images, train_labels), (test_images, test_labels) = mnist.load_data()"
   ]
  },
  {
   "cell_type": "code",
   "execution_count": 14,
   "metadata": {
    "colab": {
     "base_uri": "https://localhost:8080/"
    },
    "id": "7FlNpFtxSrMQ",
    "outputId": "fc455da6-26d6-4a79-8cb4-e7937bf4b580"
   },
   "outputs": [
    {
     "data": {
      "text/plain": "(10000, 28, 28)"
     },
     "execution_count": 14,
     "metadata": {},
     "output_type": "execute_result"
    }
   ],
   "source": [
    "test_images.shape"
   ]
  },
  {
   "cell_type": "code",
   "execution_count": 15,
   "metadata": {
    "colab": {
     "base_uri": "https://localhost:8080/"
    },
    "id": "284h06knTBBG",
    "outputId": "281f31d3-dc8d-471e-8982-a824e3558f8b"
   },
   "outputs": [
    {
     "name": "stdout",
     "output_type": "stream",
     "text": [
      "[7 2 1 ... 4 5 6]\n"
     ]
    }
   ],
   "source": [
    "print(test_labels)"
   ]
  },
  {
   "cell_type": "code",
   "execution_count": 16,
   "metadata": {
    "colab": {
     "base_uri": "https://localhost:8080/"
    },
    "id": "FBfuBT6ATHyg",
    "outputId": "79f0b2c4-650f-4d2e-9b4a-d5f689896423"
   },
   "outputs": [
    {
     "data": {
      "text/plain": "(10000,)"
     },
     "execution_count": 16,
     "metadata": {},
     "output_type": "execute_result"
    }
   ],
   "source": [
    "test_labels.shape"
   ]
  },
  {
   "cell_type": "markdown",
   "metadata": {
    "id": "MbDWz6_wTRxl"
   },
   "source": [
    "## Prepareer de test images"
   ]
  },
  {
   "cell_type": "code",
   "execution_count": 17,
   "metadata": {
    "id": "Rt4W7_fIYyuA"
   },
   "outputs": [],
   "source": [
    "test_images_enhanced = test_images.reshape(10000,28,28,1)"
   ]
  },
  {
   "cell_type": "code",
   "execution_count": 18,
   "metadata": {
    "colab": {
     "base_uri": "https://localhost:8080/"
    },
    "id": "9lo2DZv5UHFT",
    "outputId": "4d4ea338-ebdc-4e65-919b-697293bc0b77"
   },
   "outputs": [
    {
     "data": {
      "text/plain": "(10000, 28, 28, 1)"
     },
     "execution_count": 18,
     "metadata": {},
     "output_type": "execute_result"
    }
   ],
   "source": [
    "test_images_enhanced.shape"
   ]
  },
  {
   "cell_type": "markdown",
   "metadata": {
    "id": "jb2JCpgYUWlu"
   },
   "source": [
    "## Prepareer de test labels"
   ]
  },
  {
   "cell_type": "code",
   "execution_count": 19,
   "metadata": {
    "id": "8_Jmmw6MUOy-"
   },
   "outputs": [],
   "source": [
    "test_labels_encoded = to_categorical(test_labels)"
   ]
  },
  {
   "cell_type": "code",
   "execution_count": 20,
   "metadata": {
    "colab": {
     "base_uri": "https://localhost:8080/"
    },
    "id": "GKRqlPkMU6tj",
    "outputId": "4ccaf452-41c2-459a-e512-0061a290ce1d"
   },
   "outputs": [
    {
     "data": {
      "text/plain": "array([7, 2, 1, ..., 4, 5, 6], dtype=uint8)"
     },
     "execution_count": 20,
     "metadata": {},
     "output_type": "execute_result"
    }
   ],
   "source": [
    "test_labels"
   ]
  },
  {
   "cell_type": "markdown",
   "source": [],
   "metadata": {
    "collapsed": false
   }
  },
  {
   "cell_type": "code",
   "execution_count": 21,
   "metadata": {
    "colab": {
     "base_uri": "https://localhost:8080/"
    },
    "id": "7V_g1CMBUb_7",
    "outputId": "d5fdada5-7628-4965-8903-55207e4e750f"
   },
   "outputs": [
    {
     "data": {
      "text/plain": "array([[0., 0., 0., ..., 1., 0., 0.],\n       [0., 0., 1., ..., 0., 0., 0.],\n       [0., 1., 0., ..., 0., 0., 0.],\n       ...,\n       [0., 0., 0., ..., 0., 0., 0.],\n       [0., 0., 0., ..., 0., 0., 0.],\n       [0., 0., 0., ..., 0., 0., 0.]], dtype=float32)"
     },
     "execution_count": 21,
     "metadata": {},
     "output_type": "execute_result"
    }
   ],
   "source": [
    "test_labels_encoded"
   ]
  },
  {
   "cell_type": "markdown",
   "metadata": {
    "id": "T-ML8AnnIM7V"
   },
   "source": [
    "## Laad het model uit een .h5 bestand"
   ]
  },
  {
   "cell_type": "code",
   "execution_count": 22,
   "metadata": {
    "id": "7jKy3i4BHVUJ"
   },
   "outputs": [],
   "source": [
    "new_model = models.load_model(\"MNIST_LeNet5_model.h5\")"
   ]
  },
  {
   "cell_type": "code",
   "execution_count": 23,
   "metadata": {
    "colab": {
     "base_uri": "https://localhost:8080/"
    },
    "id": "T-5JnMbUIWR6",
    "outputId": "ec1e8ea3-3793-4b27-c3b0-0a0ca304aa52"
   },
   "outputs": [
    {
     "name": "stdout",
     "output_type": "stream",
     "text": [
      "Model: \"sequential_1\"\n",
      "_________________________________________________________________\n",
      " Layer (type)                Output Shape              Param #   \n",
      "=================================================================\n",
      " conv2d (Conv2D)             (None, 26, 26, 6)         60        \n",
      "                                                                 \n",
      " average_pooling2d (AverageP  (None, 13, 13, 6)        0         \n",
      " ooling2D)                                                       \n",
      "                                                                 \n",
      " conv2d_1 (Conv2D)           (None, 11, 11, 16)        880       \n",
      "                                                                 \n",
      " average_pooling2d_1 (Averag  (None, 5, 5, 16)         0         \n",
      " ePooling2D)                                                     \n",
      "                                                                 \n",
      " flatten (Flatten)           (None, 400)               0         \n",
      "                                                                 \n",
      " dense_2 (Dense)             (None, 120)               48120     \n",
      "                                                                 \n",
      " dense_3 (Dense)             (None, 84)                10164     \n",
      "                                                                 \n",
      " dense_4 (Dense)             (None, 10)                850       \n",
      "                                                                 \n",
      "=================================================================\n",
      "Total params: 60,074\n",
      "Trainable params: 60,074\n",
      "Non-trainable params: 0\n",
      "_________________________________________________________________\n"
     ]
    }
   ],
   "source": [
    "new_model.summary()"
   ]
  },
  {
   "cell_type": "code",
   "execution_count": 24,
   "metadata": {
    "colab": {
     "base_uri": "https://localhost:8080/"
    },
    "id": "EIlnBmVbIhll",
    "outputId": "1410ba68-6d39-475a-df71-e0fc043345dc"
   },
   "outputs": [
    {
     "name": "stdout",
     "output_type": "stream",
     "text": [
      "313/313 [==============================] - 0s 893us/step - loss: 1.7530 - accuracy: 0.9889\n",
      "0.9889000058174133\n"
     ]
    }
   ],
   "source": [
    "loss, acc = new_model.evaluate(test_images_enhanced,\n",
    "                         test_labels_encoded)\n",
    "\n",
    "print(acc)"
   ]
  },
  {
   "cell_type": "markdown",
   "metadata": {
    "id": "zKf-aBoXP_0O"
   },
   "source": [
    "## Evalueer de voorspellingen"
   ]
  },
  {
   "cell_type": "code",
   "execution_count": 25,
   "metadata": {
    "id": "XZ7BEjnwP2uL"
   },
   "outputs": [
    {
     "name": "stdout",
     "output_type": "stream",
     "text": [
      "313/313 [==============================] - 0s 854us/step\n"
     ]
    }
   ],
   "source": [
    "direct_predictions = new_model.predict(test_images_enhanced)"
   ]
  },
  {
   "cell_type": "code",
   "execution_count": 26,
   "metadata": {
    "colab": {
     "base_uri": "https://localhost:8080/"
    },
    "id": "qK_iZ55QQBSN",
    "outputId": "f3248442-c953-4bea-fd24-711d2902fa52"
   },
   "outputs": [
    {
     "name": "stdout",
     "output_type": "stream",
     "text": [
      "[1.62911091e-11 3.43800295e-08 1.20105606e-05 1.18617216e-04\n",
      " 1.18396569e-12 1.10002984e-05 4.23405436e-04 2.29460423e-10\n",
      " 9.99434650e-01 2.83206560e-07]\n"
     ]
    }
   ],
   "source": [
    "print(direct_predictions[1234])"
   ]
  },
  {
   "cell_type": "code",
   "execution_count": 27,
   "metadata": {
    "id": "A3XRihHWMqmg"
   },
   "outputs": [],
   "source": [
    "def plot_image(i, predictions_array, true_label, img):\n",
    "  true_label, img = true_label[i], img[i]\n",
    "  plt.grid(False)\n",
    "  plt.xticks([])\n",
    "  plt.yticks([])\n",
    "\n",
    "  plt.imshow(img, cmap=plt.cm.binary)\n",
    "\n",
    "  predicted_label = np.argmax(predictions_array)\n",
    "  if predicted_label == true_label:\n",
    "    color = 'blue'\n",
    "  else:\n",
    "    color = 'red'\n",
    "\n",
    "  plt.xlabel(true_label)\n",
    "  # plt.xlabel(\"{} {:2.0f}% ({})\".format(class_names[predicted_label],\n",
    "  #                               100*np.max(predictions_array),\n",
    "  #                               class_names[true_label]),\n",
    "  #                               color=color)\n",
    "\n",
    "def plot_value_array(i, predictions_array, true_label):\n",
    "  true_label = true_label[i]\n",
    "  plt.grid(True)\n",
    "  plt.xticks(range(10))\n",
    "  plt.yticks([0.0,0.1,0.2,0.3,0.4,0.5,0.6,0.7,0.8,0.9,1.0])\n",
    "  thisplot = plt.bar(range(10), predictions_array, color=\"#777777\")\n",
    "  plt.ylim([0, 1])\n",
    "  predicted_label = np.argmax(predictions_array)\n",
    "\n",
    "  thisplot[predicted_label].set_color('red')\n",
    "  thisplot[true_label].set_color('blue')"
   ]
  },
  {
   "cell_type": "code",
   "execution_count": 28,
   "metadata": {
    "colab": {
     "base_uri": "https://localhost:8080/"
    },
    "id": "cum0DTSfNcGt",
    "outputId": "5b1f99cb-4bcd-4c7a-a652-e1051a9c4d9b"
   },
   "outputs": [
    {
     "data": {
      "text/plain": "(10000,)"
     },
     "execution_count": 28,
     "metadata": {},
     "output_type": "execute_result"
    }
   ],
   "source": [
    "test_labels.shape"
   ]
  },
  {
   "cell_type": "code",
   "execution_count": 29,
   "metadata": {
    "colab": {
     "base_uri": "https://localhost:8080/"
    },
    "id": "7ikFO6elNhLX",
    "outputId": "c9b1f583-b61c-4fcf-c9d8-935eb54dbb9c"
   },
   "outputs": [
    {
     "data": {
      "text/plain": "(10000, 28, 28)"
     },
     "execution_count": 29,
     "metadata": {},
     "output_type": "execute_result"
    }
   ],
   "source": [
    "test_images.shape"
   ]
  },
  {
   "cell_type": "code",
   "execution_count": 30,
   "metadata": {
    "colab": {
     "base_uri": "https://localhost:8080/",
     "height": 215
    },
    "id": "QpJ_fuJoMRa-",
    "outputId": "48d0fa29-14b5-47d6-b9b3-51d96a012625"
   },
   "outputs": [
    {
     "data": {
      "text/plain": "<Figure size 600x300 with 2 Axes>",
      "image/png": "[encoded data removed]"
     },
     "metadata": {},
     "output_type": "display_data"
    }
   ],
   "source": [
    "#select an image\n",
    "i = 390\n",
    "plt.figure(figsize=(6,3))\n",
    "plt.subplot(1,2,1)\n",
    "plot_image(i, direct_predictions[i], test_labels, test_images)\n",
    "plt.subplot(1,2,2)\n",
    "plot_value_array(i, direct_predictions[i],  test_labels)\n",
    "plt.show()"
   ]
  },
  {
   "cell_type": "code",
   "execution_count": 31,
   "metadata": {
    "colab": {
     "base_uri": "https://localhost:8080/"
    },
    "id": "qbNe3fceZoXj",
    "outputId": "a5ce7e07-3c08-4b97-c69f-9a6446ddca17"
   },
   "outputs": [
    {
     "data": {
      "text/plain": "(10000, 10)"
     },
     "execution_count": 31,
     "metadata": {},
     "output_type": "execute_result"
    }
   ],
   "source": [
    "direct_predictions.shape"
   ]
  },
  {
   "cell_type": "code",
   "execution_count": 32,
   "metadata": {
    "id": "RJmK_PK9Qhm_"
   },
   "outputs": [],
   "source": [
    "mistakes = np.argmax(direct_predictions,axis=1) != test_labels.astype('int64')"
   ]
  },
  {
   "cell_type": "code",
   "execution_count": 33,
   "metadata": {
    "colab": {
     "base_uri": "https://localhost:8080/"
    },
    "id": "2IN5ZiOJeBsA",
    "outputId": "86b07f3a-fd92-4eea-83b7-49f0c8395bb6"
   },
   "outputs": [
    {
     "data": {
      "text/plain": "111"
     },
     "execution_count": 33,
     "metadata": {},
     "output_type": "execute_result"
    }
   ],
   "source": [
    "np.count_nonzero(mistakes)"
   ]
  },
  {
   "cell_type": "code",
   "execution_count": 34,
   "metadata": {
    "colab": {
     "base_uri": "https://localhost:8080/"
    },
    "id": "IdZrIOlIYtfu",
    "outputId": "98ec5421-3397-4bf2-8add-247385683b4f"
   },
   "outputs": [
    {
     "name": "stdout",
     "output_type": "stream",
     "text": [
      "[92, 119, 247, 321, 340, 445, 495, 582, 583, 659, 674, 947, 1014, 1039, 1182, 1226, 1232, 1260, 1299, 1319, 1393, 1438, 1523, 1621, 1709, 1790, 1878, 1901, 1903, 1968, 2035, 2070, 2084, 2118, 2130, 2135, 2182, 2185, 2326, 2406, 2414, 2597, 2654, 2760, 2771, 2894, 2896, 2939, 2953, 2990, 3060, 3266, 3451, 3503, 3780, 3906, 3985, 4027, 4163, 4176, 4199, 4207, 4289, 4369, 4477, 4497, 4507, 4536, 4578, 4604, 4639, 4740, 4823, 4860, 4942, 5331, 5600, 5634, 5642, 5752, 5937, 5973, 5981, 5982, 5997, 6004, 6091, 6560, 6576, 6597, 6625, 6651, 6783, 7049, 7216, 7354, 7545, 8059, 8128, 8325, 8408, 8527, 9009, 9015, 9587, 9634, 9692, 9729, 9792, 9811, 9839]\n"
     ]
    }
   ],
   "source": [
    "mistakes_index = []\n",
    "\n",
    "for index, value in enumerate(mistakes):\n",
    "  if value == True:\n",
    "    mistakes_index.append(index)\n",
    "    \n",
    "print(mistakes_index)"
   ]
  },
  {
   "cell_type": "markdown",
   "metadata": {
    "id": "u7wXTIzJQFTz"
   },
   "source": [
    "**OPDRACHT**: evalueer de distributie van **10** foute voorspellingen."
   ]
  },
  {
   "cell_type": "code",
   "execution_count": 35,
   "metadata": {
    "colab": {
     "base_uri": "https://localhost:8080/",
     "height": 215
    },
    "id": "DkxhI5eWYwHZ",
    "outputId": "13b9776b-018a-4354-a5c6-40a98fbba5e6"
   },
   "outputs": [
    {
     "data": {
      "text/plain": "<Figure size 600x300 with 2 Axes>",
      "image/png": "[encoded data removed]"
     },
     "metadata": {},
     "output_type": "display_data"
    }
   ],
   "source": [
    "i = 1903\n",
    "plt.figure(figsize=(6,3))\n",
    "plt.subplot(1,2,1)\n",
    "plot_image(i, direct_predictions[i], test_labels, test_images)\n",
    "plt.subplot(1,2,2)\n",
    "plot_value_array(i, direct_predictions[i],  test_labels)\n",
    "plt.show()"
   ]
  },
  {
   "cell_type": "code",
   "execution_count": 35,
   "metadata": {},
   "outputs": [],
   "source": []
  }
 ],
 "metadata": {
  "colab": {
   "name": "2021_03_16_cijferherkenning_LeNet5.ipynb",
   "provenance": []
  },
  "kernelspec": {
   "display_name": "Python 3 (ipykernel)",
   "language": "python",
   "name": "python3"
  },
  "language_info": {
   "codemirror_mode": {
    "name": "ipython",
    "version": 3
   },
   "file_extension": ".py",
   "mimetype": "text/x-python",
   "name": "python",
   "nbconvert_exporter": "python",
   "pygments_lexer": "ipython3",
   "version": "3.9.13"
  }
 },
 "nbformat": 4,
 "nbformat_minor": 1
}
