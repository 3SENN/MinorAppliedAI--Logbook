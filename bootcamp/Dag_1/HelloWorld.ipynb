{
 "cells": [
  {
   "cell_type": "code",
   "execution_count": 1,
   "id": "00e24281",
   "metadata": {},
   "outputs": [
    {
     "name": "stdout",
     "output_type": "stream",
     "text": [
      "hello world\n",
      "hello world bevat\n",
      "l\n",
      "hello\n",
      "d\n",
      "hello world\n",
      "hello world\n"
     ]
    }
   ],
   "source": [
    "#Hello World\n",
    "\n",
    "print(\"hello world\")\n",
    "hw =  \"hello world bevat\"\n",
    "print(hw)\n",
    "print(\"hello world\"[2])\n",
    "print(\"hello world\"[0:5])\n",
    "print(\"hello world\"[-1])\n",
    "\n",
    "##print hello world\n",
    "def print_hw():\n",
    "    \"\"\"\n",
    "    print hello world\n",
    "    :return:\n",
    "    \"\"\"\n",
    "    print(\"hello world\")\n",
    "\n",
    "##return String hello world\n",
    "def return_hw():\n",
    "    return (\"hello world\")\n",
    "\n",
    "##print given text\n",
    "def print_text(text):\n",
    "    print(text)\n",
    "\n",
    "print_hw()\n",
    "print_text(return_hw())"
   ]
  },
  {
   "cell_type": "code",
   "execution_count": 2,
   "id": "ef3f8303",
   "metadata": {},
   "outputs": [
    {
     "name": "stdout",
     "output_type": "stream",
     "text": [
      "2\n",
      "1\n",
      "2\n",
      "3\n",
      "4\n",
      "5\n",
      "6\n",
      "7\n",
      "8\n",
      "9\n",
      "10\n",
      "[1, 2, 3, 4, 5, 6, 7, 8, 9, 10, 11, 12, 13, 14]\n",
      "[6, 7, 8, 9, 10, 11, 12, 13, 14, 15, 16, 17, 18, 19]\n",
      "175\n",
      "4950\n",
      "test\n"
     ]
    }
   ],
   "source": [
    "#Sommetjes en lijstjes\n",
    "\n",
    "##1\n",
    "def sum_Calculator(first, second):\n",
    "    return first + second\n",
    "print(sum_Calculator(1,1))\n",
    "\n",
    "##2\n",
    "a = range(1,11)\n",
    "b = range(11,15)\n",
    "for n in a:\n",
    "  print(n)\n",
    "\n",
    "##A\n",
    "newlist = [x for x in a]\n",
    "secondlist = [x for x in b]\n",
    "for x in b:\n",
    "    newlist.append(x)\n",
    "print(newlist)\n",
    "\n",
    "##B\n",
    "newlist = [x + 5 for x in newlist]\n",
    "print(newlist)\n",
    "#C\n",
    "print(sum(newlist))\n",
    "\n",
    "##3\n",
    "i = 0\n",
    "for x in range(100):\n",
    "    i += x\n",
    "print(i)\n",
    "print(\"test\")"
   ]
  },
  {
   "cell_type": "code",
   "execution_count": 16,
   "id": "a28a3ad1",
   "metadata": {},
   "outputs": [
    {
     "name": "stdout",
     "output_type": "stream",
     "text": [
      "1----------\n",
      "False\n",
      "True\n",
      "True\n",
      "False\n",
      "False\n",
      "True\n",
      "2----------\n",
      "True\n",
      "True\n",
      "False\n",
      "3----------\n",
      "hello world\n",
      "4----------\n",
      "3\n",
      "None\n",
      "4\n",
      "None\n",
      "5----------\n",
      "2 6\n",
      "3 6\n",
      "4 6\n",
      "5 6\n",
      "6 6\n",
      "DONE\n",
      "----------\n",
      "5 1\n",
      "5 2\n",
      "5 3\n",
      "5 4\n",
      "5 5\n",
      "DONE\n",
      "6----------\n",
      "6.283185307\n"
     ]
    }
   ],
   "source": [
    "#Meer functies en conditionals\n",
    "\n",
    "##Kijk wat de volgende operators doen:\n",
    "print(\"1----------\")\n",
    "print( 5 == 6 )\n",
    "print( 5 != 6 )\n",
    "print( 5 < 6 )\n",
    "print( 5 > 6 )\n",
    "print( 5 >= 6 )\n",
    "print( 5 <= 6 )\n",
    "\n",
    "\n",
    "##Kijk wat de \"in\" operator doet:\n",
    "print(\"2----------\")\n",
    "print('s' in 'Mississippi') # single chars\n",
    "print('sip' in 'Mississippi') # substrings\n",
    "print('mis' in 'Mississippi') # case-sensitive\n",
    "\n",
    "\n",
    "def  string_connector(first, second):\n",
    "    return first + second\n",
    "\n",
    "def  int_bigger(first, second):\n",
    "    if second > first:\n",
    "        return first + second\n",
    "\n",
    "def  int_equal(first, second):\n",
    "    if second == first:\n",
    "        return first + second\n",
    "\n",
    "print(\"3----------\")\n",
    "print(string_connector(\"hello\",\" world\"))\n",
    "\n",
    "print(\"4----------\")\n",
    "print(int_bigger(1,2))\n",
    "print(int_bigger(2,2))\n",
    "print(int_equal(2,2))\n",
    "print(int_equal(1,2))\n",
    "\n",
    "print(\"5----------\")\n",
    "def int_add(first, second):\n",
    "    print(first,second)\n",
    "    if first == second:\n",
    "        print(\"DONE\")\n",
    "    if first > second:\n",
    "        int_add(first,second+1)\n",
    "    if second > first:\n",
    "        int_add(first+1,second)\n",
    "int_add(2,6)\n",
    "print(\"----------\")\n",
    "int_add(5,1)\n",
    "\n",
    "print(\"6----------\")\n",
    "def int_pii(first, second):\n",
    "    first_pi = first * 3.1415926535\n",
    "    if first_pi > second:\n",
    "        print(first_pi)\n",
    "    if second > first_pi:\n",
    "        print(second)\n",
    "\n",
    "int_pii(2,6)\n"
   ]
  },
  {
   "cell_type": "code",
   "execution_count": 20,
   "metadata": {
    "collapsed": false
   },
   "outputs": [
    {
     "name": "stdout",
     "output_type": "stream",
     "text": [
      "{'a': 1, 'b': 20, 'c': 5}\n",
      "3\n"
     ]
    }
   ],
   "source": [
    "#Dictionary\n",
    "a = { 'a' : 1, 'b' : 20}\n",
    "a[\"c\"] = 5\n",
    "print(a)\n",
    "\n",
    "print(len(a))"
   ]
  }
 ],
 "metadata": {
  "kernelspec": {
   "display_name": "Python 3",
   "language": "python",
   "name": "python3"
  },
  "language_info": {
   "codemirror_mode": {
    "name": "ipython",
    "version": 3
   },
   "file_extension": ".py",
   "mimetype": "text/x-python",
   "name": "python",
   "nbconvert_exporter": "python",
   "pygments_lexer": "ipython3",
   "version": "3.10.9"
  },
  "vscode": {
   "interpreter": {
    "hash": "aee8b7b246df8f9039afb4144a1f6fd8d2ca17a180786b69acc140d282b71a49"
   }
  }
 },
 "nbformat": 4,
 "nbformat_minor": 5
}
