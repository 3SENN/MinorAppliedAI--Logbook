{
 "cells": [
  {
   "cell_type": "code",
   "execution_count": 1,
   "metadata": {},
   "outputs": [
    {
     "name": "stdout",
     "output_type": "stream",
     "text": [
      "No GPU found\n"
     ]
    }
   ],
   "source": [
    "import os\n",
    "# os.environ['CUDA_VISIBLE_DEVICES'] = '-1'\n",
    "import tensorflow as tf\n",
    "if tf.test.gpu_device_name():\n",
    "    print('GPU found')\n",
    "else:\n",
    "    print(\"No GPU found\")"
   ]
  },
  {
   "cell_type": "code",
   "execution_count": 2,
   "metadata": {},
   "outputs": [],
   "source": [
    "import numpy as np\n",
    "from keras.models import Sequential\n",
    "from keras.layers import LSTM, Dense, Activation, GRU\n",
    "from keras.callbacks import ModelCheckpoint"
   ]
  },
  {
   "cell_type": "code",
   "execution_count": 3,
   "metadata": {},
   "outputs": [
    {
     "name": "stdout",
     "output_type": "stream",
     "text": [
      "Loaded a corpus of 41701 characters\n"
     ]
    }
   ],
   "source": [
    "with open(\"hazes.txt\") as corpus_file:\n",
    "    corpus = corpus_file.read()\n",
    "    corpus = corpus.lower()\n",
    "print(\"Loaded a corpus of {0} characters\".format(len(corpus)))"
   ]
  },
  {
   "cell_type": "code",
   "execution_count": 4,
   "metadata": {},
   "outputs": [
    {
     "name": "stdout",
     "output_type": "stream",
     "text": [
      "['\\n', ' ', '\"', \"'\", '(', ')', ',', '.', '1', '2', ':', ';', '?', '`', 'a', 'b', 'c', 'd', 'e', 'f', 'g', 'h', 'i', 'j', 'k', 'l', 'm', 'n', 'o', 'p', 'r', 's', 't', 'u', 'v', 'w', 'x', 'y', 'z']\n",
      "Our corpus contains 39 unique characters.\n",
      "{'\\n': 0, ' ': 1, '\"': 2, \"'\": 3, '(': 4, ')': 5, ',': 6, '.': 7, '1': 8, '2': 9, ':': 10, ';': 11, '?': 12, '`': 13, 'a': 14, 'b': 15, 'c': 16, 'd': 17, 'e': 18, 'f': 19, 'g': 20, 'h': 21, 'i': 22, 'j': 23, 'k': 24, 'l': 25, 'm': 26, 'n': 27, 'o': 28, 'p': 29, 'r': 30, 's': 31, 't': 32, 'u': 33, 'v': 34, 'w': 35, 'x': 36, 'y': 37, 'z': 38}\n"
     ]
    }
   ],
   "source": [
    "# Get a unique identifier for each char in the corpus, then make some dicts to ease encoding and decoding\n",
    "chars = sorted(list(set(corpus)))\n",
    "num_chars = len(chars)\n",
    "encoding = {c: i for i, c in enumerate(chars)}\n",
    "decoding = {i: c for i, c in enumerate(chars)}\n",
    "\n",
    "print(chars)\n",
    "print(\"Our corpus contains {0} unique characters.\".format(num_chars))\n",
    "print(encoding)"
   ]
  },
  {
   "cell_type": "code",
   "execution_count": 5,
   "metadata": {},
   "outputs": [],
   "source": [
    "# it slices, it dices, it makes julienned datasets!\n",
    "# chop up our data into X and y, slice into roughly (num_chars / skip) overlapping 'sentences'\n",
    "# of length sentence_length, and encode the chars\n",
    "sentence_length = 20\n",
    "skip = 1\n",
    "X_data = []\n",
    "y_data = []\n",
    "\n",
    "for i in range (0, len(corpus) - sentence_length, skip):\n",
    "    sentence = corpus[i:i + sentence_length]\n",
    "    next_char = corpus[i + sentence_length]\n",
    "    X_data.append([encoding[char] for char in sentence])\n",
    "    y_data.append(encoding[next_char])"
   ]
  },
  {
   "cell_type": "code",
   "execution_count": 6,
   "metadata": {},
   "outputs": [
    {
     "name": "stdout",
     "output_type": "stream",
     "text": [
      "41681\n"
     ]
    }
   ],
   "source": [
    "print(len(X_data))"
   ]
  },
  {
   "cell_type": "code",
   "execution_count": 7,
   "metadata": {},
   "outputs": [
    {
     "data": {
      "text/plain": "([3, 27, 1, 38, 28, 28, 27, 1, 35, 14, 31, 1, 20, 22, 31, 32, 18, 30, 18, 27],\n 1)"
     },
     "execution_count": 7,
     "metadata": {},
     "output_type": "execute_result"
    }
   ],
   "source": [
    "X_data[1], y_data[1]"
   ]
  },
  {
   "cell_type": "code",
   "execution_count": 8,
   "metadata": {},
   "outputs": [
    {
     "data": {
      "text/plain": "([27, 1, 38, 28, 28, 27, 1, 35, 14, 31, 1, 20, 22, 31, 32, 18, 30, 18, 27, 1],\n 23)"
     },
     "execution_count": 8,
     "metadata": {},
     "output_type": "execute_result"
    }
   ],
   "source": [
    "X_data[2], y_data[2]"
   ]
  },
  {
   "cell_type": "code",
   "execution_count": 9,
   "metadata": {},
   "outputs": [
    {
     "name": "stdout",
     "output_type": "stream",
     "text": [
      "Sliced our corpus into 41681 sentences of length 20\n"
     ]
    }
   ],
   "source": [
    "num_sentences = len(X_data)\n",
    "print(\"Sliced our corpus into {0} sentences of length {1}\".format(num_sentences, sentence_length))"
   ]
  },
  {
   "cell_type": "code",
   "execution_count": 10,
   "metadata": {},
   "outputs": [
    {
     "name": "stdout",
     "output_type": "stream",
     "text": [
      "Vectorizing X and y...\n"
     ]
    }
   ],
   "source": [
    "print(\"Vectorizing X and y...\")\n",
    "X = np.zeros((num_sentences, sentence_length, num_chars), dtype=bool)\n",
    "y = np.zeros((num_sentences, num_chars), dtype=bool)\n",
    "for i, sentence in enumerate(X_data):\n",
    "    for t, encoded_char in enumerate(sentence):\n",
    "        X[i, t, encoded_char] = 1\n",
    "    y[i, y_data[i]] = 1"
   ]
  },
  {
   "cell_type": "code",
   "execution_count": 11,
   "metadata": {},
   "outputs": [
    {
     "data": {
      "text/plain": "array([[False, False, False,  True, False, False, False, False, False,\n        False, False, False, False, False, False, False, False, False,\n        False, False, False, False, False, False, False, False, False,\n        False, False, False, False, False, False, False, False, False,\n        False, False, False],\n       [False, False, False, False, False, False, False, False, False,\n        False, False, False, False, False, False, False, False, False,\n        False, False, False, False, False, False, False, False, False,\n         True, False, False, False, False, False, False, False, False,\n        False, False, False],\n       [False,  True, False, False, False, False, False, False, False,\n        False, False, False, False, False, False, False, False, False,\n        False, False, False, False, False, False, False, False, False,\n        False, False, False, False, False, False, False, False, False,\n        False, False, False],\n       [False, False, False, False, False, False, False, False, False,\n        False, False, False, False, False, False, False, False, False,\n        False, False, False, False, False, False, False, False, False,\n        False, False, False, False, False, False, False, False, False,\n        False, False,  True],\n       [False, False, False, False, False, False, False, False, False,\n        False, False, False, False, False, False, False, False, False,\n        False, False, False, False, False, False, False, False, False,\n        False,  True, False, False, False, False, False, False, False,\n        False, False, False],\n       [False, False, False, False, False, False, False, False, False,\n        False, False, False, False, False, False, False, False, False,\n        False, False, False, False, False, False, False, False, False,\n        False,  True, False, False, False, False, False, False, False,\n        False, False, False],\n       [False, False, False, False, False, False, False, False, False,\n        False, False, False, False, False, False, False, False, False,\n        False, False, False, False, False, False, False, False, False,\n         True, False, False, False, False, False, False, False, False,\n        False, False, False],\n       [False,  True, False, False, False, False, False, False, False,\n        False, False, False, False, False, False, False, False, False,\n        False, False, False, False, False, False, False, False, False,\n        False, False, False, False, False, False, False, False, False,\n        False, False, False],\n       [False, False, False, False, False, False, False, False, False,\n        False, False, False, False, False, False, False, False, False,\n        False, False, False, False, False, False, False, False, False,\n        False, False, False, False, False, False, False, False,  True,\n        False, False, False],\n       [False, False, False, False, False, False, False, False, False,\n        False, False, False, False, False,  True, False, False, False,\n        False, False, False, False, False, False, False, False, False,\n        False, False, False, False, False, False, False, False, False,\n        False, False, False],\n       [False, False, False, False, False, False, False, False, False,\n        False, False, False, False, False, False, False, False, False,\n        False, False, False, False, False, False, False, False, False,\n        False, False, False, False,  True, False, False, False, False,\n        False, False, False],\n       [False,  True, False, False, False, False, False, False, False,\n        False, False, False, False, False, False, False, False, False,\n        False, False, False, False, False, False, False, False, False,\n        False, False, False, False, False, False, False, False, False,\n        False, False, False],\n       [False, False, False, False, False, False, False, False, False,\n        False, False, False, False, False, False, False, False, False,\n        False, False,  True, False, False, False, False, False, False,\n        False, False, False, False, False, False, False, False, False,\n        False, False, False],\n       [False, False, False, False, False, False, False, False, False,\n        False, False, False, False, False, False, False, False, False,\n        False, False, False, False,  True, False, False, False, False,\n        False, False, False, False, False, False, False, False, False,\n        False, False, False],\n       [False, False, False, False, False, False, False, False, False,\n        False, False, False, False, False, False, False, False, False,\n        False, False, False, False, False, False, False, False, False,\n        False, False, False, False,  True, False, False, False, False,\n        False, False, False],\n       [False, False, False, False, False, False, False, False, False,\n        False, False, False, False, False, False, False, False, False,\n        False, False, False, False, False, False, False, False, False,\n        False, False, False, False, False,  True, False, False, False,\n        False, False, False],\n       [False, False, False, False, False, False, False, False, False,\n        False, False, False, False, False, False, False, False, False,\n         True, False, False, False, False, False, False, False, False,\n        False, False, False, False, False, False, False, False, False,\n        False, False, False],\n       [False, False, False, False, False, False, False, False, False,\n        False, False, False, False, False, False, False, False, False,\n        False, False, False, False, False, False, False, False, False,\n        False, False, False,  True, False, False, False, False, False,\n        False, False, False],\n       [False, False, False, False, False, False, False, False, False,\n        False, False, False, False, False, False, False, False, False,\n         True, False, False, False, False, False, False, False, False,\n        False, False, False, False, False, False, False, False, False,\n        False, False, False],\n       [False, False, False, False, False, False, False, False, False,\n        False, False, False, False, False, False, False, False, False,\n        False, False, False, False, False, False, False, False, False,\n         True, False, False, False, False, False, False, False, False,\n        False, False, False]])"
     },
     "execution_count": 11,
     "metadata": {},
     "output_type": "execute_result"
    }
   ],
   "source": [
    "X[1]"
   ]
  },
  {
   "cell_type": "code",
   "execution_count": 12,
   "metadata": {},
   "outputs": [
    {
     "data": {
      "text/plain": "array([False,  True, False, False, False, False, False, False, False,\n       False, False, False, False, False, False, False, False, False,\n       False, False, False, False, False, False, False, False, False,\n       False, False, False, False, False, False, False, False, False,\n       False, False, False])"
     },
     "execution_count": 12,
     "metadata": {},
     "output_type": "execute_result"
    }
   ],
   "source": [
    "y[1]"
   ]
  },
  {
   "cell_type": "code",
   "execution_count": 13,
   "metadata": {},
   "outputs": [
    {
     "name": "stdout",
     "output_type": "stream",
     "text": [
      "Sanity check y. Dimension: (41681, 39) # Sentences: 41681 Characters in corpus: 39\n",
      "Sanity check X. Dimension: (41681, 20, 39) Sentence length: 20\n"
     ]
    }
   ],
   "source": [
    "# Double check our vectorized data before we sink hours into fitting a model\n",
    "print(\"Sanity check y. Dimension: {0} # Sentences: {1} Characters in corpus: {2}\".format(y.shape, num_sentences, len(chars)))\n",
    "print(\"Sanity check X. Dimension: {0} Sentence length: {1}\".format(X.shape, sentence_length))"
   ]
  },
  {
   "cell_type": "code",
   "execution_count": 14,
   "metadata": {},
   "outputs": [
    {
     "name": "stdout",
     "output_type": "stream",
     "text": [
      "Let's build model 1\n",
      "Model: \"sequential\"\n",
      "_________________________________________________________________\n",
      " Layer (type)                Output Shape              Param #   \n",
      "=================================================================\n",
      " lstm (LSTM)                 (None, 128)               86016     \n",
      "                                                                 \n",
      " dense (Dense)               (None, 39)                5031      \n",
      "                                                                 \n",
      " activation (Activation)     (None, 39)                0         \n",
      "                                                                 \n",
      "=================================================================\n",
      "Total params: 91,047\n",
      "Trainable params: 91,047\n",
      "Non-trainable params: 0\n",
      "_________________________________________________________________\n"
     ]
    }
   ],
   "source": [
    "# Define our model\n",
    "print(\"Let's build model 1\")\n",
    "model = Sequential()\n",
    "model.add(LSTM(128, input_shape=(sentence_length, num_chars)))\n",
    "model.add(Dense(num_chars))\n",
    "model.add(Activation('softmax'))\n",
    "model.compile(loss='categorical_crossentropy', optimizer='adam')\n",
    "model.summary() "
   ]
  },
  {
   "cell_type": "code",
   "execution_count": 15,
   "metadata": {},
   "outputs": [
    {
     "name": "stdout",
     "output_type": "stream",
     "text": [
      "Epoch 1/20\n",
      "1298/1303 [============================>.] - ETA: 0s - loss: 2.4100\n",
      "Epoch 1: loss improved from inf to 2.40882, saving model to weights-01.hdf5\n",
      "1303/1303 [==============================] - 7s 5ms/step - loss: 2.4088\n",
      "Epoch 2/20\n",
      "1294/1303 [============================>.] - ETA: 0s - loss: 1.9340\n",
      "Epoch 2: loss improved from 2.40882 to 1.93368, saving model to weights-02.hdf5\n",
      "1303/1303 [==============================] - 6s 5ms/step - loss: 1.9337\n",
      "Epoch 3/20\n",
      "1297/1303 [============================>.] - ETA: 0s - loss: 1.7737\n",
      "Epoch 3: loss improved from 1.93368 to 1.77378, saving model to weights-03.hdf5\n",
      "1303/1303 [==============================] - 6s 5ms/step - loss: 1.7738\n",
      "Epoch 4/20\n",
      "1303/1303 [==============================] - ETA: 0s - loss: 1.6543\n",
      "Epoch 4: loss improved from 1.77378 to 1.65427, saving model to weights-04.hdf5\n",
      "1303/1303 [==============================] - 6s 5ms/step - loss: 1.6543\n",
      "Epoch 5/20\n",
      "1301/1303 [============================>.] - ETA: 0s - loss: 1.5454\n",
      "Epoch 5: loss improved from 1.65427 to 1.54563, saving model to weights-05.hdf5\n",
      "1303/1303 [==============================] - 6s 5ms/step - loss: 1.5456\n",
      "Epoch 6/20\n",
      "1303/1303 [==============================] - ETA: 0s - loss: 1.4481\n",
      "Epoch 6: loss improved from 1.54563 to 1.44810, saving model to weights-06.hdf5\n",
      "1303/1303 [==============================] - 6s 5ms/step - loss: 1.4481\n",
      "Epoch 7/20\n",
      "1300/1303 [============================>.] - ETA: 0s - loss: 1.3562\n",
      "Epoch 7: loss improved from 1.44810 to 1.35620, saving model to weights-07.hdf5\n",
      "1303/1303 [==============================] - 6s 5ms/step - loss: 1.3562\n",
      "Epoch 8/20\n",
      "1300/1303 [============================>.] - ETA: 0s - loss: 1.2647\n",
      "Epoch 8: loss improved from 1.35620 to 1.26460, saving model to weights-08.hdf5\n",
      "1303/1303 [==============================] - 7s 5ms/step - loss: 1.2646\n",
      "Epoch 9/20\n",
      "1300/1303 [============================>.] - ETA: 0s - loss: 1.1777\n",
      "Epoch 9: loss improved from 1.26460 to 1.17812, saving model to weights-09.hdf5\n",
      "1303/1303 [==============================] - 7s 5ms/step - loss: 1.1781\n",
      "Epoch 10/20\n",
      "1297/1303 [============================>.] - ETA: 0s - loss: 1.0909\n",
      "Epoch 10: loss improved from 1.17812 to 1.09080, saving model to weights-10.hdf5\n",
      "1303/1303 [==============================] - 7s 5ms/step - loss: 1.0908\n",
      "Epoch 11/20\n",
      "1301/1303 [============================>.] - ETA: 0s - loss: 1.0084\n",
      "Epoch 11: loss improved from 1.09080 to 1.00830, saving model to weights-11.hdf5\n",
      "1303/1303 [==============================] - 7s 5ms/step - loss: 1.0083\n",
      "Epoch 12/20\n",
      "1301/1303 [============================>.] - ETA: 0s - loss: 0.9315\n",
      "Epoch 12: loss improved from 1.00830 to 0.93103, saving model to weights-12.hdf5\n",
      "1303/1303 [==============================] - 7s 6ms/step - loss: 0.9310\n",
      "Epoch 13/20\n",
      "1303/1303 [==============================] - ETA: 0s - loss: 0.8575\n",
      "Epoch 13: loss improved from 0.93103 to 0.85749, saving model to weights-13.hdf5\n",
      "1303/1303 [==============================] - 7s 6ms/step - loss: 0.8575\n",
      "Epoch 14/20\n",
      "1296/1303 [============================>.] - ETA: 0s - loss: 0.7885\n",
      "Epoch 14: loss improved from 0.85749 to 0.78851, saving model to weights-14.hdf5\n",
      "1303/1303 [==============================] - 7s 6ms/step - loss: 0.7885\n",
      "Epoch 15/20\n",
      "1297/1303 [============================>.] - ETA: 0s - loss: 0.7255\n",
      "Epoch 15: loss improved from 0.78851 to 0.72629, saving model to weights-15.hdf5\n",
      "1303/1303 [==============================] - 8s 6ms/step - loss: 0.7263\n",
      "Epoch 16/20\n",
      "1301/1303 [============================>.] - ETA: 0s - loss: 0.6655\n",
      "Epoch 16: loss improved from 0.72629 to 0.66572, saving model to weights-16.hdf5\n",
      "1303/1303 [==============================] - 8s 6ms/step - loss: 0.6657\n",
      "Epoch 17/20\n",
      "1300/1303 [============================>.] - ETA: 0s - loss: 0.6171\n",
      "Epoch 17: loss improved from 0.66572 to 0.61679, saving model to weights-17.hdf5\n",
      "1303/1303 [==============================] - 8s 6ms/step - loss: 0.6168\n",
      "Epoch 18/20\n",
      "1295/1303 [============================>.] - ETA: 0s - loss: 0.5671\n",
      "Epoch 18: loss improved from 0.61679 to 0.56738, saving model to weights-18.hdf5\n",
      "1303/1303 [==============================] - 8s 6ms/step - loss: 0.5674\n",
      "Epoch 19/20\n",
      "1303/1303 [==============================] - ETA: 0s - loss: 0.5204\n",
      "Epoch 19: loss improved from 0.56738 to 0.52039, saving model to weights-19.hdf5\n",
      "1303/1303 [==============================] - 8s 6ms/step - loss: 0.5204\n",
      "Epoch 20/20\n",
      "1297/1303 [============================>.] - ETA: 0s - loss: 0.4874\n",
      "Epoch 20: loss improved from 0.52039 to 0.48717, saving model to weights-20.hdf5\n",
      "1303/1303 [==============================] - 8s 6ms/step - loss: 0.4872\n"
     ]
    },
    {
     "data": {
      "text/plain": "<keras.callbacks.History at 0x28373629a50>"
     },
     "execution_count": 15,
     "metadata": {},
     "output_type": "execute_result"
    }
   ],
   "source": [
    "# Dump our model architecture to a file so we can load it elsewhere\n",
    "# Find out how to load a model? ,\n",
    "# return_sequences=True\n",
    "architecture = model.to_json()\n",
    "with open('model.json', 'w') as model_file:\n",
    "    model_file.write(architecture)\n",
    "\n",
    "# Set up checkpoints, and save trained model\n",
    "file_path=\"weights-{epoch:02d}.hdf5\"\n",
    "checkpoint = ModelCheckpoint(file_path, monitor=\"loss\", verbose=1, save_best_only=True, mode=\"min\")\n",
    "callbacks = [checkpoint]\n",
    "\n",
    "# Find out how to load the trained checkpoint?\n",
    "# Lets go, action time!\n",
    "model.fit(X, y, epochs=20, batch_size=32, callbacks=callbacks)"
   ]
  },
  {
   "cell_type": "code",
   "execution_count": 16,
   "metadata": {},
   "outputs": [],
   "source": [
    "#model.add(GRU(256),return_sequences=True)\n",
    "#model.add(GRU(256))\n",
    "model.compile(loss='categorical_crossentropy', optimizer='adam')"
   ]
  },
  {
   "cell_type": "code",
   "execution_count": 16,
   "metadata": {},
   "outputs": [],
   "source": []
  }
 ],
 "metadata": {
  "kernelspec": {
   "display_name": "Python 3 (ipykernel)",
   "language": "python",
   "name": "python3"
  },
  "language_info": {
   "codemirror_mode": {
    "name": "ipython",
    "version": 3
   },
   "file_extension": ".py",
   "mimetype": "text/x-python",
   "name": "python",
   "nbconvert_exporter": "python",
   "pygments_lexer": "ipython3",
   "version": "3.10.9"
  },
  "pycharm": {
   "stem_cell": {
    "cell_type": "raw",
    "metadata": {
     "collapsed": false
    },
    "source": []
   }
  }
 },
 "nbformat": 4,
 "nbformat_minor": 2
}
