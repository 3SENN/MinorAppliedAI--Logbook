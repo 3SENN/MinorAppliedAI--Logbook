{
 "cells": [
  {
   "cell_type": "markdown",
   "metadata": {
    "id": "kaODKh9fy7by"
   },
   "source": [
    "# Herkenning van handgeschreven cijfers met Machine Learning\n",
    "\n",
    "## k-Nearest Neigbours\n",
    "\n",
    "Stijn Oomes\n",
    "\n",
    "donderdag 15 september 2022\n"
   ]
  },
  {
   "cell_type": "markdown",
   "metadata": {
    "id": "K044LdPKy7bz"
   },
   "source": [
    "## info KNN\n",
    "- K-Nearest Neighbors (kNN) is een eenvoudige en intuïtieve methode voor classificatie. Het werkt door een onbekend datapunt te classificeren op basis van de klasse van de k dichtstbijzijnde datapunten in de trainingsset. De fouten die kNN maakt, worden meestal veroorzaakt door ruis of onbalans in de trainingsset.\n",
    "\n",
    "\n",
    "## Importeer libraries"
   ]
  },
  {
   "cell_type": "code",
   "execution_count": 53,
   "metadata": {
    "id": "gsDgWzuay7b0"
   },
   "outputs": [],
   "source": [
    "import numpy as np\n",
    "\n",
    "from matplotlib import pyplot as plt\n",
    "import seaborn as sns; sns.set()\n",
    "\n",
    "from sklearn import neighbors\n",
    "from sklearn.metrics import accuracy_score\n",
    "from sklearn.metrics import confusion_matrix\n",
    "\n",
    "from keras.datasets import mnist"
   ]
  },
  {
   "cell_type": "markdown",
   "metadata": {
    "id": "G_gpggBey7b2"
   },
   "source": [
    "## Verover de data"
   ]
  },
  {
   "cell_type": "code",
   "execution_count": 54,
   "metadata": {
    "id": "CkkvAqGgDpIi"
   },
   "outputs": [],
   "source": [
    "(X_train_images, y_train_labels), (X_test_images, y_test_labels) = mnist.load_data()"
   ]
  },
  {
   "cell_type": "code",
   "execution_count": 55,
   "metadata": {
    "colab": {
     "base_uri": "https://localhost:8080/"
    },
    "id": "mfF1NYn3TlXk",
    "outputId": "5c661c71-04e9-47e6-a7c9-cfbe2c14da54"
   },
   "outputs": [
    {
     "data": {
      "text/plain": "(60000, 28, 28)"
     },
     "execution_count": 55,
     "metadata": {},
     "output_type": "execute_result"
    }
   ],
   "source": [
    "X_train_images.shape"
   ]
  },
  {
   "cell_type": "code",
   "execution_count": 56,
   "metadata": {
    "colab": {
     "base_uri": "https://localhost:8080/"
    },
    "id": "A5emNzTCEA8t",
    "outputId": "aa916727-16f8-4a11-df43-b2c13aee01c4"
   },
   "outputs": [
    {
     "data": {
      "text/plain": "(60000,)"
     },
     "execution_count": 56,
     "metadata": {},
     "output_type": "execute_result"
    }
   ],
   "source": [
    "y_train_labels.shape"
   ]
  },
  {
   "cell_type": "markdown",
   "metadata": {
    "id": "iQ6P2oNp_Mb_"
   },
   "source": [
    "Hier check ik hoeveel unieke labels er zijn, en ik check of het voldoet aan mijn verwachting."
   ]
  },
  {
   "cell_type": "code",
   "execution_count": 57,
   "metadata": {
    "colab": {
     "base_uri": "https://localhost:8080/"
    },
    "id": "V7DNsyFgE0WF",
    "outputId": "570442cb-0bcc-4ac5-8671-6469d53e50ef"
   },
   "outputs": [
    {
     "data": {
      "text/plain": "array([0, 1, 2, 3, 4, 5, 6, 7, 8, 9], dtype=uint8)"
     },
     "execution_count": 57,
     "metadata": {},
     "output_type": "execute_result"
    }
   ],
   "source": [
    "np.unique(y_train_labels)"
   ]
  },
  {
   "cell_type": "markdown",
   "metadata": {},
   "source": [
    "En nog een check of de test-set aan mijn verwachtingen voldoet."
   ]
  },
  {
   "cell_type": "code",
   "execution_count": 58,
   "metadata": {
    "colab": {
     "base_uri": "https://localhost:8080/"
    },
    "id": "dwzcvcfKTvt0",
    "outputId": "8870e6da-0539-4dee-e9a0-77e117513700"
   },
   "outputs": [
    {
     "data": {
      "text/plain": "(10000, 28, 28)"
     },
     "execution_count": 58,
     "metadata": {},
     "output_type": "execute_result"
    }
   ],
   "source": [
    "X_test_images.shape"
   ]
  },
  {
   "cell_type": "code",
   "execution_count": 59,
   "metadata": {
    "colab": {
     "base_uri": "https://localhost:8080/"
    },
    "id": "UGSktT18E92E",
    "outputId": "ffce6257-aea5-412c-cf41-40ad65648427"
   },
   "outputs": [
    {
     "data": {
      "text/plain": "(10000,)"
     },
     "execution_count": 59,
     "metadata": {},
     "output_type": "execute_result"
    }
   ],
   "source": [
    "y_test_labels.shape"
   ]
  },
  {
   "cell_type": "code",
   "execution_count": 60,
   "metadata": {
    "colab": {
     "base_uri": "https://localhost:8080/"
    },
    "id": "K5KEbj8cT7fR",
    "outputId": "f6b7809b-c61d-4136-e538-b811b35dca7a"
   },
   "outputs": [
    {
     "name": "stdout",
     "output_type": "stream",
     "text": [
      "[5 0 4 1 9 2 1 3 1 4 3 5 3 6 1 7 2 8 6 9]\n"
     ]
    }
   ],
   "source": [
    "print(y_train_labels[:20])"
   ]
  },
  {
   "cell_type": "markdown",
   "metadata": {
    "id": "kTk8XNQTy7b8"
   },
   "source": [
    "## Toon 12 random cijfers uit de training-set"
   ]
  },
  {
   "cell_type": "code",
   "execution_count": 61,
   "metadata": {
    "colab": {
     "base_uri": "https://localhost:8080/",
     "height": 264
    },
    "id": "AqaG81Xoy7b9",
    "outputId": "936fc261-efbf-48d7-f7f8-b9f67632dd4b"
   },
   "outputs": [
    {
     "data": {
      "text/plain": "<Figure size 640x480 with 12 Axes>",
      "image/png": "[encoded data removed]"
     },
     "metadata": {},
     "output_type": "display_data"
    }
   ],
   "source": [
    "for sub in range(1, 13):\n",
    "        plt.subplot(3,4, sub)\n",
    "        i = np.random.randint(60000)\n",
    "\n",
    "        plt.imshow(255 - X_train_images[i], cmap='gray')\n",
    "        plt.title(y_train_labels[i]);\n",
    "        plt.axis(\"off\")"
   ]
  },
  {
   "cell_type": "markdown",
   "metadata": {
    "id": "o-CmZBWdGvDI"
   },
   "source": [
    "## Maak de images geschikt voor ML modellen"
   ]
  },
  {
   "cell_type": "markdown",
   "metadata": {
    "id": "mG5PX38MBRRZ"
   },
   "source": [
    "**OPDRACHT**: \"reshape\" de images naar een nieuwe data structuur met dimensies (#aantal_images, 28*28)"
   ]
  },
  {
   "cell_type": "code",
   "execution_count": 62,
   "metadata": {
    "id": "3U0v6y18GodR"
   },
   "outputs": [],
   "source": [
    "X_train_images_flatten = X_train_images.reshape((60000,28*28))\n"
   ]
  },
  {
   "cell_type": "code",
   "execution_count": 63,
   "metadata": {
    "colab": {
     "base_uri": "https://localhost:8080/"
    },
    "id": "WBIvLIEZHDlq",
    "outputId": "a55aa788-7547-4ef4-801e-51bce32a92a2"
   },
   "outputs": [
    {
     "data": {
      "text/plain": "(60000, 784)"
     },
     "execution_count": 63,
     "metadata": {},
     "output_type": "execute_result"
    }
   ],
   "source": [
    "X_train_images_flatten.shape"
   ]
  },
  {
   "cell_type": "code",
   "execution_count": 64,
   "metadata": {
    "id": "37BjsfROHRqU"
   },
   "outputs": [],
   "source": [
    "X_test_images_flatten = X_test_images.reshape((10000,28*28))\n"
   ]
  },
  {
   "cell_type": "code",
   "execution_count": 65,
   "metadata": {
    "colab": {
     "base_uri": "https://localhost:8080/"
    },
    "id": "CWgLedG0HWI_",
    "outputId": "20aa2254-aa15-42b8-d0d5-8d4cafd74e95"
   },
   "outputs": [
    {
     "data": {
      "text/plain": "(10000, 784)"
     },
     "execution_count": 65,
     "metadata": {},
     "output_type": "execute_result"
    }
   ],
   "source": [
    "X_test_images_flatten.shape"
   ]
  },
  {
   "cell_type": "markdown",
   "metadata": {
    "id": "NBEZvXo1I2O-"
   },
   "source": [
    "## k-Nearest Neighbours\n"
   ]
  },
  {
   "cell_type": "markdown",
   "metadata": {
    "id": "OjTA0PmEwi9M"
   },
   "source": [
    "Het is beter om in eerste instantie slechts een **deel** van de training set en de test set te gebruiken, bijvoorbeeld 10%.\n",
    "\n",
    "Het trainen duurt niet lang, maar het voorspellen kan zeer rekenintensief zijn.\n",
    "\n",
    "Gebruik %%timeit om deze bewering te controleren."
   ]
  },
  {
   "cell_type": "code",
   "execution_count": 66,
   "metadata": {
    "id": "1p4SP1PRxyeR"
   },
   "outputs": [],
   "source": [
    "from sklearn.model_selection import train_test_split\n",
    "\n",
    "knn = neighbors.KNeighborsClassifier(n_neighbors=5, weights='distance')"
   ]
  },
  {
   "cell_type": "markdown",
   "metadata": {
    "id": "bjaOM7f4BunN"
   },
   "source": [
    "**OPDRACHT**: train de kNN met fit() en pas het model toe met predict(). *Kies eerst 10% van de train set en test set.* Je mag dat later verruimen."
   ]
  },
  {
   "cell_type": "code",
   "execution_count": 67,
   "outputs": [
    {
     "name": "stdout",
     "output_type": "stream",
     "text": [
      "182 µs ± 2.6 µs per loop (mean ± std. dev. of 7 runs, 10,000 loops each)\n"
     ]
    }
   ],
   "source": [
    "%%timeit\n",
    "knn.fit(X_train_images_flatten[:6000,:], y_train_labels[:6000])\n"
   ],
   "metadata": {
    "collapsed": false
   }
  },
  {
   "cell_type": "code",
   "execution_count": 68,
   "metadata": {
    "colab": {
     "base_uri": "https://localhost:8080/"
    },
    "id": "ZBGklPJfM6JI",
    "outputId": "89659e9f-8ad5-4756-8fb7-7fa31f082736"
   },
   "outputs": [
    {
     "name": "stdout",
     "output_type": "stream",
     "text": [
      "0.919\n",
      "0.919\n",
      "0.919\n",
      "0.919\n",
      "0.919\n",
      "0.919\n",
      "0.919\n",
      "0.919\n",
      "0.919\n",
      "0.919\n",
      "0.919\n",
      "0.919\n",
      "0.919\n",
      "0.919\n",
      "0.919\n",
      "0.919\n",
      "0.919\n",
      "0.919\n",
      "0.919\n",
      "0.919\n",
      "0.919\n",
      "0.919\n",
      "0.919\n",
      "0.919\n",
      "0.919\n",
      "0.919\n",
      "0.919\n",
      "0.919\n",
      "0.919\n",
      "0.919\n",
      "0.919\n",
      "0.919\n",
      "0.919\n",
      "0.919\n",
      "0.919\n",
      "0.919\n",
      "0.919\n",
      "0.919\n",
      "0.919\n",
      "0.919\n",
      "0.919\n",
      "0.919\n",
      "0.919\n",
      "0.919\n",
      "0.919\n",
      "0.919\n",
      "0.919\n",
      "0.919\n",
      "0.919\n",
      "0.919\n",
      "0.919\n",
      "0.919\n",
      "0.919\n",
      "0.919\n",
      "0.919\n",
      "0.919\n",
      "0.919\n",
      "0.919\n",
      "0.919\n",
      "0.919\n",
      "0.919\n",
      "0.919\n",
      "0.919\n",
      "0.919\n",
      "0.919\n",
      "0.919\n",
      "0.919\n",
      "0.919\n",
      "0.919\n",
      "0.919\n",
      "0.919\n",
      "0.919\n",
      "0.919\n",
      "0.919\n",
      "0.919\n",
      "0.919\n",
      "0.919\n",
      "0.919\n",
      "0.919\n",
      "0.919\n",
      "0.919\n",
      "103 ms ± 924 µs per loop (mean ± std. dev. of 7 runs, 10 loops each)\n"
     ]
    }
   ],
   "source": [
    "%%timeit\n",
    "y_predicted_labels = knn.predict(X_test_images_flatten[:1000,:])\n",
    "print(accuracy_score(y_test_labels[:1000], y_predicted_labels[:1000]))\n"
   ]
  },
  {
   "cell_type": "markdown",
   "metadata": {
    "id": "qd0L-E5b_Cy0"
   },
   "source": [
    "**OPDRACHT**: Hoe verhoudt de \"training-tijd\" zich tot de \"test-tijd\"?"
   ]
  },
  {
   "cell_type": "code",
   "execution_count": 69,
   "metadata": {
    "colab": {
     "base_uri": "https://localhost:8080/"
    },
    "id": "0INzBAdBzqRp",
    "outputId": "5c9f211d-c795-42d2-f6af-27c40c4fb25c"
   },
   "outputs": [],
   "source": [
    "#train tijd:185 µs\n",
    "#test tijd: 103 ms"
   ]
  },
  {
   "cell_type": "markdown",
   "metadata": {
    "id": "HwFgaOgd_10C"
   },
   "source": [
    "Herhaal hier even dezelfde code omdat variabelen binnen de %%timeit niet toegankelijk zijn buiten de %%timeit."
   ]
  },
  {
   "cell_type": "code",
   "execution_count": 70,
   "metadata": {
    "colab": {
     "base_uri": "https://localhost:8080/"
    },
    "id": "l4hMDhB-xKj8",
    "outputId": "35b78667-d2e1-49ae-a045-9d7e6ef8320a"
   },
   "outputs": [
    {
     "name": "stdout",
     "output_type": "stream",
     "text": [
      "0.9215\n"
     ]
    }
   ],
   "source": [
    "y_predicted_labels = knn.predict(X_test_images_flatten[:6000,:])\n",
    "\n",
    "print(accuracy_score(y_test_labels[:6000], y_predicted_labels[:6000]))"
   ]
  },
  {
   "cell_type": "markdown",
   "metadata": {},
   "source": [
    "Bepaal een verwarringsmatrix en plot deze matrix als heatmap."
   ]
  },
  {
   "cell_type": "code",
   "execution_count": 71,
   "metadata": {
    "colab": {
     "base_uri": "https://localhost:8080/"
    },
    "id": "ROE7FZIsyvn9",
    "outputId": "41385009-8ad4-477b-f834-91637096f9b1"
   },
   "outputs": [
    {
     "name": "stdout",
     "output_type": "stream",
     "text": [
      "[[ 83   0   0   0   0   0   2   0   0   0]\n",
      " [  0 126   0   0   0   0   0   0   0   0]\n",
      " [  2   4  98   0   1   0   2   7   2   0]\n",
      " [  0   1   0  98   0   2   2   2   0   2]\n",
      " [  0   2   0   0  98   0   1   1   0   8]\n",
      " [  1   1   0   0   1  81   0   0   2   1]\n",
      " [  2   0   0   0   1   0  84   0   0   0]\n",
      " [  0   6   0   0   1   1   0  89   0   2]\n",
      " [  2   1   0   4   1   1   2   0  74   4]\n",
      " [  0   0   0   0   2   0   0   2   2  88]]\n"
     ]
    }
   ],
   "source": [
    "cm = confusion_matrix(y_test_labels[:1000], y_predicted_labels[:1000])\n",
    "\n",
    "print(cm)"
   ]
  },
  {
   "cell_type": "code",
   "execution_count": 72,
   "metadata": {
    "colab": {
     "base_uri": "https://localhost:8080/",
     "height": 285
    },
    "id": "b2mtnV8MQz_o",
    "outputId": "fd61d03b-d426-46e9-eba2-aefea4bce500"
   },
   "outputs": [
    {
     "data": {
      "text/plain": "<Figure size 640x480 with 1 Axes>",
      "image/png": "[encoded data removed]"
     },
     "metadata": {},
     "output_type": "display_data"
    }
   ],
   "source": [
    "sns.heatmap(cm, square=True, annot=True, cbar=False)\n",
    "plt.xlabel('predicted value')\n",
    "plt.ylabel('true value');"
   ]
  },
  {
   "cell_type": "markdown",
   "metadata": {},
   "source": [
    "Wat valt je op?\n",
    "het valt mij op dat de waarde 0, 5 en 8 erg vaak fout worden gedaan. Ze hebben een lage percentage. De 9 en 4 worden het vaakst door elkaar gehaald."
   ]
  },
  {
   "cell_type": "markdown",
   "metadata": {
    "id": "tPB4KYSzy7cM"
   },
   "source": [
    "## Toon 12 voorbeelden van fouten van het model"
   ]
  },
  {
   "cell_type": "markdown",
   "metadata": {
    "id": "2OPneYpJAH6k"
   },
   "source": [
    "Ik bepaal eerst welke cijfers fout zijn gecategoriseerd."
   ]
  },
  {
   "cell_type": "code",
   "execution_count": 73,
   "metadata": {
    "id": "u3GUt1-Ry7cM"
   },
   "outputs": [],
   "source": [
    "mistakes =  y_test_labels[:1000]!=y_predicted_labels[:1000]"
   ]
  },
  {
   "cell_type": "markdown",
   "metadata": {
    "id": "KUGh2vh4CZln"
   },
   "source": [
    "Ik bekijk een aantal voorbeelden."
   ]
  },
  {
   "cell_type": "code",
   "execution_count": 74,
   "metadata": {
    "colab": {
     "base_uri": "https://localhost:8080/"
    },
    "id": "q-whapf3CcDi",
    "outputId": "c53112a5-dd5d-4c11-b1f1-6800024f10ae"
   },
   "outputs": [
    {
     "data": {
      "text/plain": "array([False, False, False, False, False, False, False, False, False,\n       False, False, False, False, False, False, False, False, False,\n       False, False, False, False, False, False,  True, False, False,\n       False, False, False, False, False, False, False, False, False,\n       False, False, False, False, False, False, False,  True, False,\n       False, False, False, False, False, False, False, False, False,\n       False, False, False, False, False, False, False, False, False,\n       False, False, False, False, False, False, False, False, False,\n       False, False, False, False, False,  True, False, False,  True,\n       False, False, False, False, False, False, False, False, False,\n       False, False,  True, False, False, False, False, False, False,\n       False])"
     },
     "execution_count": 74,
     "metadata": {},
     "output_type": "execute_result"
    }
   ],
   "source": [
    "mistakes[:100]"
   ]
  },
  {
   "cell_type": "markdown",
   "metadata": {
    "id": "-K9shsL9ATk7"
   },
   "source": [
    "En bepaal hoeveel fouten er zijn:"
   ]
  },
  {
   "cell_type": "code",
   "execution_count": 75,
   "metadata": {
    "colab": {
     "base_uri": "https://localhost:8080/"
    },
    "id": "LmIcIUjGy7cP",
    "outputId": "4e29d0dd-2ce2-4161-efef-fbf641e3243c"
   },
   "outputs": [
    {
     "data": {
      "text/plain": "81"
     },
     "execution_count": 75,
     "metadata": {},
     "output_type": "execute_result"
    }
   ],
   "source": [
    "# keepdims: bool | None = False) -> int\n",
    "np.count_nonzero(mistakes)"
   ]
  },
  {
   "cell_type": "markdown",
   "metadata": {
    "id": "SXmPmW2LAizS"
   },
   "source": [
    "Ik wil hier alleen de fout gecategoriseerde cijfers plotten.\n",
    "\n",
    "Op dit moment worden in de code hieronder 12 willekeurige cijfers uit de *hele* test set gekozen.\n",
    "\n",
    "**OPDRACHT**: schrijf de code om naar alleen **fout** geclassificeerde cijfers."
   ]
  },
  {
   "cell_type": "code",
   "execution_count": 76,
   "metadata": {
    "colab": {
     "base_uri": "https://localhost:8080/",
     "height": 264
    },
    "id": "pfmj7pucy7cR",
    "outputId": "360bf537-0dc8-4f7e-a3c4-362cb2b2aefc"
   },
   "outputs": [
    {
     "data": {
      "text/plain": "<Figure size 640x480 with 12 Axes>",
      "image/png": "[encoded data removed]"
     },
     "metadata": {},
     "output_type": "display_data"
    }
   ],
   "source": [
    "#for loops 12 times to make 12 subplots\n",
    "for sub in range(1,13):\n",
    "    plt.subplot(3,4, sub)\n",
    "    #while loop is active until predicted_number!=actual_number, because of break\n",
    "    while True:\n",
    "        i = np.random.randint(1000)\n",
    "        predicted_number = y_predicted_labels[i]\n",
    "        actual_number = y_test_labels[i]\n",
    "        if predicted_number!=actual_number:\n",
    "            plt.imshow(255 - X_test_images[i,:,:], cmap='gray')\n",
    "            plt.axis(\"off\")\n",
    "            plt.title('{0} seen as {1}'.format(actual_number, predicted_number))\n",
    "            break"
   ]
  }
 ],
 "metadata": {
  "colab": {
   "collapsed_sections": [],
   "name": "2021_02_11 MNIST kNN uitwerking.ipynb",
   "provenance": []
  },
  "kernelspec": {
   "display_name": "Python 3 (ipykernel)",
   "language": "python",
   "name": "python3"
  },
  "language_info": {
   "codemirror_mode": {
    "name": "ipython",
    "version": 3
   },
   "file_extension": ".py",
   "mimetype": "text/x-python",
   "name": "python",
   "nbconvert_exporter": "python",
   "pygments_lexer": "ipython3",
   "version": "3.8.5"
  }
 },
 "nbformat": 4,
 "nbformat_minor": 1
}
