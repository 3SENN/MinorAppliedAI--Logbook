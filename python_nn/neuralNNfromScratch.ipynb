{
 "cells": [
  {
   "cell_type": "code",
   "execution_count": 53,
   "metadata": {
    "collapsed": true
   },
   "outputs": [],
   "source": [
    "import numpy\n",
    "# scipy.special for the sigmoid function expit()\n",
    "import scipy.special\n",
    "import matplotlib.pyplot as plt"
   ]
  },
  {
   "cell_type": "markdown",
   "source": [
    "# train and query 3 layer neural networks\n",
    "\n",
    "`Initialisatie`. We weten dat we het aantal invoer-, verborgen- en uitvoerlaagnodes moeten instellen. Dit bepaalt de vorm en grootte van het neurale netwerk. In plaats van ze in steen vast te leggen, laat ik ze instellen wanneer ik een nieuw neurale netwerkobject maak met behulp van parameters.\n",
    "\n",
    "`Weights`. De volgende stap is het creëren van het netwerk van nodes en verbindingen. Het belangrijkste onderdeel van het netwerk zijn de gewichten van de verbindingen. Ze worden gebruikt om het signaal dat voorwaarts wordt doorgegeven te berekenen, de fout die achterwaarts wordt doorgegeven, en het zijn de gewichten van de verbindingen zelf die worden verfijnd in een poging om het netwerk te verbeteren.\n",
    "\n",
    "De functie numpy.random.normal() is nuttig voor het genereren van gewichten omdat het ons in staat stelt om willekeurige getallen te trekken uit een normale verdeling. Bij het initialiseren van de gewichten in een neuraal netwerk is het belangrijk om een zekere mate van willekeur te behouden. Door gebruik te maken van een normale verdeling kunnen we gewichten genereren die rond het gemiddelde van nul gecentreerd zijn, wat een goed startpunt is voor het optimaliseren van het netwerk.\n",
    "\n",
    "Daarnaast maakt het gebruik van de standaarddeviatie, die gerelateerd is aan het aantal inkomende verbindingen naar een knooppunt, het mogelijk om de variabiliteit van de gewichten te regelen. Door de standaarddeviatie te berekenen als 1/√(aantal inkomende verbindingen), zorgen we ervoor dat knooppunten met meer inkomende verbindingen een kleinere standaarddeviatie hebben, waardoor de invloed van elke verbinding evenredig verdeeld wordt.\n",
    "\n",
    "Door deze aanpak kunnen we een set van willekeurige gewichten genereren die geschikt zijn voor het trainen van ons neurale netwerk en die de mogelijkheid bieden om de prestaties van het netwerk te verbeteren tijdens het leerproces.\n",
    "\n",
    "`Querying`-functie past matrixvermenigvuldiging toe om de signalen door de lagen van het netwerk te sturen, waarbij de gewichtsmatiging en de sigmoid-activatiefunctie worden toegepast. Dit proces wordt herhaald voor de verborgen laag en de uiteindelijke outputlaag. Samengevoegd zorgen deze stappen ervoor dat het neurale netwerk in staat is om de invoer correct te verwerken en betekenisvolle uitvoer te genereren. Ze spelen een cruciale rol in het vermogen van het netwerk om te leren, patronen te herkennen en voorspellingen te doen op basis van de gegeven invoer.\n",
    "\n",
    "`Training` proces bestaat uit twee delen:\n",
    "\n",
    "1. Het berekenen van de output voor een gegeven trainingsvoorbeeld: Dit is vergelijkbaar met wat we zojuist hebben gedaan met de `query()`-functie. Het neurale netwerk neemt de invoer van het trainingsvoorbeeld en berekent de output door de signalen door de lagen van het netwerk te sturen. Dit geeft ons de voorspelde output van het netwerk voor dat specifieke trainingsvoorbeeld.\n",
    "\n",
    "2. Het vergelijken van de berekende output met de gewenste output: Nadat we de voorspelde output hebben verkregen, vergelijken we deze met de gewenste output die bij het trainingsvoorbeeld hoort. Dit stelt ons in staat om het verschil, ook wel de fout genoemd, tussen de voorspelde output en de gewenste output te bepalen. Deze fout is een maatstaf voor hoe goed het netwerk presteert op het trainingsvoorbeeld.\n",
    "\n",
    "Met behulp van de fout kunnen we vervolgens de gewichten in het netwerk bijwerken. Door het verschil tussen de voorspelde output en de gewenste output te gebruiken, kunnen we de gewichten aanpassen om de prestaties van het netwerk te verbeteren. Dit wordt gedaan door technieken zoals backpropagatie, waarbij de fout wordt teruggevoerd door het netwerk en gebruikt om de gewichten in de verborgen lagen en de outputlaag aan te passen.\n",
    "\n",
    "   Door het vermenigvuldigen van matrices van fouten, uitvoersignalen en transposities van signalen, worden de gewichten tussen de lagen van het netwerk aangepast. Dit proces staat bekend als backpropagatie\n",
    "\n",
    "\n",
    "\n",
    "\n",
    "\n",
    "\n",
    "\n"
   ],
   "metadata": {
    "collapsed": false
   }
  },
  {
   "cell_type": "code",
   "execution_count": 39,
   "outputs": [],
   "source": [
    "class neuralNetwork:\n",
    "    def __init__(self, inputnodes, hiddennodes, outputnodes, learningrate):\n",
    "        # Set aantal knooppunten in elke laag\n",
    "        self.inodes = inputnodes\n",
    "        self.hnodes = hiddennodes\n",
    "        self.onodes = outputnodes\n",
    "\n",
    "        # Gewichtsmatrices, wih en who\n",
    "        # Gewichten in de matrices zijn w_i_j, waarbij de link van knooppunt i naar knooppunt j in de volgende laag gaat\n",
    "        # w11 w21\n",
    "        # w12 w22, enz.\n",
    "        self.wih = numpy.random.normal(0.0, pow(self.hnodes, 0.5), (self.hnodes, self.inodes))\n",
    "        self.who = numpy.random.normal(0.0, pow(self.onodes, 0.5), (self.onodes, self.hnodes))\n",
    "\n",
    "        # Learning rate\n",
    "        self.lr = learningrate\n",
    "\n",
    "        # Activatiefunctie is de sigmoid-functie\n",
    "        # sigmoid = 1 / 1 + e^-t\n",
    "        self.activation_function = lambda x: 1 / (1 + np.exp(-x))\n",
    "\n",
    "    def train(self, inputs_list, targets_list):\n",
    "        # Converteer invoerlijst naar een 2D-array\n",
    "        inputs = numpy.array(inputs_list, ndmin=2).T\n",
    "        targets = numpy.array(targets_list, ndmin=2).T\n",
    "\n",
    "        # ------------------------\n",
    "        # Feedforward-proces\n",
    "        # ------------------------\n",
    "\n",
    "        # Bereken signalen naar de verborgen laag\n",
    "        hidden_inputs = numpy.dot(self.wih, inputs)\n",
    "        # Bereken de signalen die uit de verborgen laag komen\n",
    "        hidden_outputs = self.activation_function(hidden_inputs)\n",
    "\n",
    "        # Bereken signalen naar de uiteindelijke uitvoerlaag\n",
    "        final_inputs = numpy.dot(self.who, hidden_outputs)\n",
    "        # Bereken de signalen die uit de uiteindelijke uitvoerlaag komen\n",
    "        final_outputs = self.activation_function(final_inputs)\n",
    "\n",
    "        # ------------------------\n",
    "        # Backpropagatie-proces\n",
    "        # ------------------------\n",
    "\n",
    "        # Bereken de fout in de uitvoerlaag (output_errors)\n",
    "        output_errors = targets - final_outputs\n",
    "\n",
    "        # Bereken de fout in de verborgen laag (hidden_errors)\n",
    "        hidden_errors = numpy.dot(self.who.T, output_errors)\n",
    "\n",
    "        # Update de gewichten tussen de verborgen en uitvoerlaag (self.who)\n",
    "        # Gewichten worden geüpdatet op basis van de delta-regel van sigmoid functie\n",
    "        self.who += self.lr * numpy.dot((output_errors * final_outputs * (1.0 - final_outputs)), numpy.transpose(hidden_outputs))\n",
    "\n",
    "        # Update de gewichten tussen de invoer en verborgen laag (self.wih)\n",
    "        # Gewichten worden geüpdate op basis van de delta-regel van sigmoid functie\n",
    "        self.wih += self.lr * numpy.dot((hidden_errors * hidden_outputs * (1.0 - hidden_outputs)), numpy.transpose(inputs))\n",
    "\n",
    "    def query(self, inputs_list):\n",
    "        # Converteer invoerlijst naar een 2D-array\n",
    "        inputs = numpy.array(inputs_list, ndmin=2).T\n",
    "\n",
    "        # ------------------------\n",
    "        # Feedforward-proces\n",
    "        # ------------------------\n",
    "\n",
    "        # Bereken signalen naar de verborgen laag\n",
    "        hidden_inputs = numpy.dot(self.wih, inputs)\n",
    "        # Bereken de signalen die uit de verborgen laag komen\n",
    "        hidden_outputs = self.activation_function(hidden_inputs)\n",
    "\n",
    "        # Bereken signalen naar de uiteindelijke uitvoerlaag\n",
    "        final_inputs = numpy.dot(self.who, hidden_outputs)\n",
    "        # Bereken de signalen die uit de uiteindelijke uitvoerlaag komen\n",
    "        final_outputs = self.activation_function(final_inputs)\n",
    "\n",
    "        # Geef de uiteindelijke uitvoer van het neurale netwerk terug\n",
    "        return final_outputs\n"
   ],
   "metadata": {
    "collapsed": false
   }
  },
  {
   "cell_type": "markdown",
   "source": [
    "De term `(output_errors * final_outputs * (1.0 - final_outputs))` berekent de delta's voor de uitvoerlaag op basis van de fout, de activaties en de afgeleide van de sigmoid-functie. Vervolgens wordt dit gecombineerd met de activaties van de verborgen laag hidden_outputs en vermenigvuldigd met de leersnelheid self.lr om de gewichtsupdates te bepalen.\n",
    "\n",
    "Waarom is dit een goede manier van `Backpropagatie`\n",
    "- Deze manier van backpropagatie is effectief omdat het de fouten van de uitvoerlaag terugvoert naar de verborgen lagen, waardoor het neurale netwerk kan leren en de gewichten kan aanpassen om de voorspellingen te verbeteren.\n",
    "\n",
    "Waarom ik gekozen heb voor non-linear `Feedforward`\n",
    "- Non-linear kan beter complexe patronen herkennen dan linear. Daarom heb ik gekozen voor de sigmoid activatiefunctie, want deze is non-linear.\n",
    "\n",
    "[Aantekeningen](https://gitlab.fdmci.hva.nl/chintss/minor-logboek-aai-2/-/blob/main/python_nn/NNNotes.md)"
   ],
   "metadata": {
    "collapsed": false
   }
  },
  {
   "cell_type": "code",
   "execution_count": 40,
   "outputs": [],
   "source": [
    "input_nodes = 3\n",
    "h_nodes = 3\n",
    "o_nodes = 3\n",
    "\n",
    "learning_rate = 0.3\n",
    "\n",
    "n = neuralNetwork(input_nodes,h_nodes,o_nodes,learning_rate)"
   ],
   "metadata": {
    "collapsed": false
   }
  },
  {
   "cell_type": "code",
   "execution_count": 41,
   "outputs": [
    {
     "data": {
      "text/plain": "array([[0.71223492],\n       [0.28374021],\n       [0.19808185]])"
     },
     "execution_count": 41,
     "metadata": {},
     "output_type": "execute_result"
    }
   ],
   "source": [
    "n.query([1.0,0.5,-1.5])"
   ],
   "metadata": {
    "collapsed": false
   }
  },
  {
   "cell_type": "code",
   "execution_count": 42,
   "outputs": [
    {
     "name": "stdout",
     "output_type": "stream",
     "text": [
      "Output: [[0.48566667]]\n"
     ]
    }
   ],
   "source": [
    "import numpy\n",
    "\n",
    "# Define the neural network architecture and parameters\n",
    "input_nodes = 3\n",
    "hidden_nodes = 4\n",
    "output_nodes = 1\n",
    "learning_rate = 0.1\n",
    "\n",
    "# Create an instance of the neural network\n",
    "nn = neuralNetwork(input_nodes, hidden_nodes, output_nodes, learning_rate)\n",
    "\n",
    "# Define the training data\n",
    "inputs = numpy.array([[0.1, 0.2, 0.3],\n",
    "                      [0.4, 0.5, 0.6],\n",
    "                      [0.7, 0.8, 0.9]])\n",
    "\n",
    "targets = numpy.array([[0.5],\n",
    "                       [0.7],\n",
    "                       [0.2]])\n",
    "\n",
    "# Train the neural network\n",
    "for i in range(1000):  # Perform 1000 training iterations\n",
    "    nn.train(inputs, targets)\n",
    "\n",
    "# Test the trained network\n",
    "test_input = [0.3, 0.4, 0.5]\n",
    "output = nn.query(test_input)\n",
    "print(\"Output:\", output)\n"
   ],
   "metadata": {
    "collapsed": false
   }
  },
  {
   "cell_type": "code",
   "execution_count": 43,
   "outputs": [
    {
     "data": {
      "text/plain": "array([[0.51871615]])"
     },
     "execution_count": 43,
     "metadata": {},
     "output_type": "execute_result"
    }
   ],
   "source": [
    "nn.query([0.1, 0.2, 0.3])"
   ],
   "metadata": {
    "collapsed": false
   }
  },
  {
   "cell_type": "code",
   "execution_count": 44,
   "outputs": [
    {
     "data": {
      "text/plain": "array([[0.46471092]])"
     },
     "execution_count": 44,
     "metadata": {},
     "output_type": "execute_result"
    }
   ],
   "source": [
    "nn.query([0.4, 0.5, 0.6])"
   ],
   "metadata": {
    "collapsed": false
   }
  },
  {
   "cell_type": "code",
   "execution_count": 45,
   "outputs": [
    {
     "data": {
      "text/plain": "array([[0.40107798]])"
     },
     "execution_count": 45,
     "metadata": {},
     "output_type": "execute_result"
    }
   ],
   "source": [
    "nn.query([0.7, 0.8, 0.9])"
   ],
   "metadata": {
    "collapsed": false
   }
  },
  {
   "cell_type": "markdown",
   "source": [
    "Ik ga het NN trainen om de MNIST dataset. Ik ga ervan uit dat het NN duidelijke cijfers goed zal voorspellen. Ik ga het model 20 epochs geven."
   ],
   "metadata": {
    "collapsed": false
   }
  },
  {
   "cell_type": "code",
   "execution_count": 52,
   "outputs": [
    {
     "data": {
      "text/plain": "<Figure size 640x480 with 1 Axes>",
      "image/png": "[encoded data removed]"
     },
     "metadata": {},
     "output_type": "display_data"
    }
   ],
   "source": [
    "# Display the test image\n",
    "plt.imshow(test_images[0], cmap='gray')\n",
    "plt.title(\"Test Image\")\n",
    "plt.axis('off')\n",
    "plt.show()"
   ],
   "metadata": {
    "collapsed": false
   }
  },
  {
   "cell_type": "markdown",
   "source": [
    "Deze foto is een duidelijke 7, hopelijk herkent het NN het ook zo."
   ],
   "metadata": {
    "collapsed": false
   }
  },
  {
   "cell_type": "markdown",
   "source": [],
   "metadata": {
    "collapsed": false
   }
  },
  {
   "cell_type": "code",
   "execution_count": 48,
   "outputs": [
    {
     "name": "stdout",
     "output_type": "stream",
     "text": [
      "0\n",
      "1\n",
      "2\n",
      "3\n",
      "4\n",
      "5\n",
      "6\n",
      "7\n",
      "8\n",
      "9\n",
      "10\n",
      "11\n",
      "12\n",
      "13\n",
      "14\n",
      "15\n",
      "16\n",
      "17\n",
      "18\n",
      "19\n",
      "Predicted Label: 7\n"
     ]
    }
   ],
   "source": [
    "import numpy as np\n",
    "from tensorflow.keras.datasets import mnist\n",
    "\n",
    "# Load the MNIST dataset\n",
    "(train_images, train_labels), (test_images, test_labels) = mnist.load_data()\n",
    "\n",
    "# Reshape and normalize the input images\n",
    "train_images = train_images.reshape((60000, 28 * 28))  # Reshape to a 2D array\n",
    "train_images = train_images.astype('float32') / 255  # Normalize pixel values between 0 and 1\n",
    "\n",
    "# Convert the labels to one-hot encoded vectors\n",
    "train_labels = np.eye(10)[train_labels]  # Convert labels to one-hot encoded vectors\n",
    "\n",
    "# Define the neural network architecture and parameters\n",
    "input_nodes = 28 * 28  # Input size based on the MNIST image shape\n",
    "hidden_nodes = 64  # Arbitrary number of hidden nodes\n",
    "output_nodes = 10  # Output size for 10 digit classes\n",
    "learning_rate = 0.1\n",
    "\n",
    "# Create an instance of the neural network\n",
    "nn = neuralNetwork(input_nodes, hidden_nodes, output_nodes, learning_rate)\n",
    "\n",
    "# Train the neural network\n",
    "for i in range(20):  # Perform 1000 training iterations\n",
    "    print(i)\n",
    "    for image, label in zip(train_images, train_labels):\n",
    "        nn.train(image, label)\n",
    "\n",
    "# Test the trained network\n",
    "test_image = test_images[0].flatten()  # Flatten the input image\n",
    "output = nn.query(test_image)\n",
    "predicted_label = np.argmax(output)  # Get the index of the highest output activation\n",
    "print(\"Predicted Label:\", predicted_label)\n"
   ],
   "metadata": {
    "collapsed": false
   }
  },
  {
   "cell_type": "markdown",
   "source": [
    "Correcte prediction."
   ],
   "metadata": {
    "collapsed": false
   }
  },
  {
   "cell_type": "markdown",
   "source": [
    "# neuralNetwork met CrossEntropy\n",
    "\n",
    "## Cross-entropy formule:\n",
    "![Cross-Entropy Loss Formule](https://latex.codecogs.com/svg.latex?%5Ctext%7BLoss%7D%20%3D%20-%5Csum%20%28%20%5Cmathbf%7Bt%7D%20%5Clog%28%5Cmathbf%7By%7D%29%20+%20%281%20-%20%5Cmathbf%7Bt%7D%29%20%5Clog%281%20-%20%5Cmathbf%7By%7D%29%20%29)\n",
    "\n",
    "Voor de rest is het NN hetzelfde. Alleen loss function toegevoegd.\n"
   ],
   "metadata": {
    "collapsed": false
   }
  },
  {
   "cell_type": "code",
   "execution_count": 12,
   "outputs": [],
   "source": [
    "import numpy as np\n",
    "import scipy.special\n",
    "\n",
    "class neuralNetwork:\n",
    "    def __init__(self, inputnodes, hiddennodes, outputnodes, learningrate):\n",
    "        # Set aantal knooppunten in elke laag\n",
    "        self.inodes = inputnodes\n",
    "        self.hnodes = hiddennodes\n",
    "        self.onodes = outputnodes\n",
    "\n",
    "        # Gewichtsmatrices, wih en who\n",
    "        # Gewichten in de matrices zijn w_i_j, waarbij de link van knooppunt i naar knooppunt j in de volgende laag gaat\n",
    "        # w11 w21\n",
    "        # w12 w22, enz.\n",
    "        self.wih = np.random.normal(0.0, pow(self.hnodes, 0.5), (self.hnodes, self.inodes))\n",
    "        self.who = np.random.normal(0.0, pow(self.onodes, 0.5), (self.onodes, self.hnodes))\n",
    "\n",
    "        # Learning rate\n",
    "        self.lr = learningrate\n",
    "\n",
    "        # Activatiefunctie is de sigmoid-functie\n",
    "        # sigmoid = 1 / 1 + e^-t\n",
    "        self.activation_function = lambda x:  1 / (1 + np.exp(-x))\n",
    "\n",
    "    def feedforward(self, inputs):\n",
    "        # Bereken signalen naar de verborgen laag\n",
    "        hidden_inputs = np.dot(self.wih, inputs)\n",
    "        # Bereken de signalen die uit de verborgen laag komen\n",
    "        hidden_outputs = self.activation_function(hidden_inputs)\n",
    "\n",
    "        # Bereken signalen naar de uiteindelijke uitvoerlaag\n",
    "        final_inputs = np.dot(self.who, hidden_outputs)\n",
    "        # Bereken de signalen die uit de uiteindelijke uitvoerlaag komen\n",
    "        final_outputs = self.activation_function(final_inputs)\n",
    "\n",
    "        return hidden_outputs, final_outputs\n",
    "\n",
    "    def train(self, inputs_list, targets_list):\n",
    "        # Convert input and target lists to 2D arrays\n",
    "        inputs = np.array(inputs_list, ndmin=2).T\n",
    "        targets = np.array(targets_list, ndmin=2).T\n",
    "\n",
    "        # Feedforward\n",
    "        hidden_outputs, final_outputs = self.feedforward(inputs)\n",
    "\n",
    "        epsilon = 1e-10\n",
    "        loss = -np.sum(targets * np.log(final_outputs + epsilon) + (1 - targets) * np.log(1 - final_outputs + epsilon))\n",
    "\n",
    "        # Backpropagation\n",
    "\n",
    "        # Calculate the output errors\n",
    "        output_errors = targets - final_outputs\n",
    "\n",
    "        # Calculate the hidden layer errors\n",
    "        hidden_errors = np.dot(self.who.T, output_errors)\n",
    "\n",
    "        # Update the weights between the hidden and output layers\n",
    "        self.who += self.lr * np.dot((output_errors * final_outputs * (1.0 - final_outputs)),\n",
    "                                     np.transpose(hidden_outputs))\n",
    "\n",
    "        # Update the weights between the input and hidden layers\n",
    "        self.wih += self.lr * np.dot((hidden_errors * hidden_outputs * (1.0 - hidden_outputs)),\n",
    "                                     np.transpose(inputs))\n",
    "\n",
    "        return loss\n",
    "\n",
    "\n",
    "    def query(self, inputs_list):\n",
    "        # Converteer invoerlijst naar een 2D-array\n",
    "        inputs = np.array(inputs_list, ndmin=2).T\n",
    "\n",
    "        # ------------------------\n",
    "        # Feedforward-proces\n",
    "        # ------------------------\n",
    "\n",
    "        _, final_outputs = self.feedforward(inputs)\n",
    "\n",
    "        # Geef de uiteindelijke uitvoer van het neurale netwerk terug\n",
    "        return final_outputs\n",
    "\n",
    "    def loss(self, inputs_list, targets_list):\n",
    "        # Converteer invoerlijst naar een 2D-array\n",
    "        inputs = np.array(inputs_list, ndmin=2).T\n",
    "        targets = np.array(targets_list, ndmin=2).T\n",
    "\n",
    "        # ------------------------\n",
    "        # Feedforward-proces\n",
    "        # ------------------------\n",
    "\n",
    "        _, final_outputs = self.feedforward(inputs)\n",
    "\n",
    "        # Bereken de cross-entropy loss\n",
    "        loss = -np.sum(targets * np.log(final_outputs) + (1 - targets) * np.log(1 - final_outputs))\n",
    "\n",
    "        return loss\n"
   ],
   "metadata": {
    "collapsed": false
   }
  },
  {
   "cell_type": "markdown",
   "source": [
    "## Trainen en plotten van LOSS - CrossEntropy"
   ],
   "metadata": {
    "collapsed": false
   }
  },
  {
   "cell_type": "code",
   "execution_count": 13,
   "outputs": [
    {
     "name": "stdout",
     "output_type": "stream",
     "text": [
      "Iteration: 0 Average Loss: 4.610531213885091\n",
      "Iteration: 1 Average Loss: 1.7015316706625132\n",
      "Iteration: 2 Average Loss: 1.3175933846608585\n",
      "Iteration: 3 Average Loss: 1.1293859840074714\n",
      "Iteration: 4 Average Loss: 1.0011885789953883\n",
      "Iteration: 5 Average Loss: 0.9235844041035488\n",
      "Iteration: 6 Average Loss: 0.8600511405686044\n",
      "Iteration: 7 Average Loss: 0.8090073113968995\n",
      "Iteration: 8 Average Loss: 0.7740583459627601\n",
      "Iteration: 9 Average Loss: 0.7406726045479499\n",
      "Iteration: 10 Average Loss: 0.7111708594345115\n",
      "Iteration: 11 Average Loss: 0.6875065091521851\n",
      "Iteration: 12 Average Loss: 0.6670064719492469\n",
      "Iteration: 13 Average Loss: 0.6476062846849163\n",
      "Iteration: 14 Average Loss: 0.6285816291404537\n",
      "Iteration: 15 Average Loss: 0.6152336753511284\n",
      "Iteration: 16 Average Loss: 0.5999699179250322\n",
      "Iteration: 17 Average Loss: 0.5851312601538509\n",
      "Iteration: 18 Average Loss: 0.5728173254614318\n",
      "Iteration: 19 Average Loss: 0.5658708350211066\n",
      "Predicted Label: 7\n"
     ]
    },
    {
     "name": "stderr",
     "output_type": "stream",
     "text": [
      "/var/folders/2p/m8pz9vjx3zn73ndc2lz_zb0w0000gn/T/ipykernel_67449/385956504.py:23: RuntimeWarning: overflow encountered in exp\n",
      "  self.activation_function = lambda x:  1 / (1 + np.exp(-x))\n"
     ]
    },
    {
     "data": {
      "text/plain": "<Figure size 640x480 with 1 Axes>",
      "image/png": "[encoded data removed]"
     },
     "metadata": {},
     "output_type": "display_data"
    }
   ],
   "source": [
    "import numpy as np\n",
    "from tensorflow.keras.datasets import mnist\n",
    "\n",
    "# Load the MNIST dataset\n",
    "(train_images, train_labels), (test_images, test_labels) = mnist.load_data()\n",
    "\n",
    "# Reshape and normalize the input images\n",
    "train_images = train_images.reshape((60000, 28 * 28))  # Reshape to a 2D array\n",
    "train_images = train_images.astype('float32') / 255  # Normalize pixel values between 0 and 1\n",
    "\n",
    "# Convert the labels to one-hot encoded vectors\n",
    "train_labels = np.eye(10)[train_labels]  # Convert labels to one-hot encoded vectors\n",
    "\n",
    "# Define the neural network architecture and parameters\n",
    "input_nodes = 28 * 28  # Input size based on the MNIST image shape\n",
    "hidden_nodes = 64  # Arbitrary number of hidden nodes\n",
    "output_nodes = 10  # Output size for 10 digit classes\n",
    "learning_rate = 0.1\n",
    "\n",
    "# Create an instance of the neural network\n",
    "nn = neuralNetwork(input_nodes, hidden_nodes, output_nodes, learning_rate)\n",
    "# Create empty lists to store the loss values\n",
    "loss_values = []\n",
    "\n",
    "# Train the neural network\n",
    "for i in range(20):  # Perform 20 training iterations\n",
    "    total_loss = 0\n",
    "\n",
    "    for image, label in zip(train_images, train_labels):\n",
    "        loss = nn.train(image, label)\n",
    "        total_loss += loss\n",
    "\n",
    "    average_loss = total_loss / len(train_images)\n",
    "    print(\"Iteration:\", i, \"Average Loss:\", average_loss)\n",
    "    loss_values.append(average_loss)\n",
    "\n",
    "# Test the trained network\n",
    "test_image = test_images[0].flatten()  # Flatten the input image\n",
    "output = nn.query(test_image)\n",
    "predicted_label = np.argmax(output)  # Get the index of the highest output activation\n",
    "print(\"Predicted Label:\", predicted_label)\n",
    "\n",
    "\n",
    "# Plot the loss values\n",
    "plt.plot(loss_values)\n",
    "plt.xlabel('Iteration')\n",
    "plt.ylabel('Loss')\n",
    "plt.title('Training Loss')\n",
    "plt.show()"
   ],
   "metadata": {
    "collapsed": false
   }
  },
  {
   "cell_type": "markdown",
   "source": [
    "Het dalen van de loss (van 4.5 naar 0.57) tijdens het trainen van een neuraal netwerk geeft aan dat het netwerk beter wordt in het maken van accurate voorspellingen. De loss is een maatstaf voor het verschil tussen de voorspelde uitvoer van het netwerk en de werkelijke doelwaarden. Het doel van het trainen is om deze loss te minimaliseren.\n",
    "\n",
    "Een hoge initiële loss van 4.5 geeft aan dat het netwerk aanvankelijk relatief onnauwkeurige voorspellingen maakt. Naarmate het trainingsproces vordert, past het netwerk zijn gewichten en biases aan om de voorspellingen beter af te stemmen op de gewenste doelwaarden. Dit resulteert in een lagere loss-waarde van 0.57, wat aangeeft dat de voorspellingen van het netwerk dichter bij de werkelijke doelwaarden liggen.\n"
   ],
   "metadata": {
    "collapsed": false
   }
  },
  {
   "cell_type": "code",
   "execution_count": null,
   "outputs": [],
   "source": [],
   "metadata": {
    "collapsed": false
   }
  }
 ],
 "metadata": {
  "kernelspec": {
   "display_name": "Python 3",
   "language": "python",
   "name": "python3"
  },
  "language_info": {
   "codemirror_mode": {
    "name": "ipython",
    "version": 2
   },
   "file_extension": ".py",
   "mimetype": "text/x-python",
   "name": "python",
   "nbconvert_exporter": "python",
   "pygments_lexer": "ipython2",
   "version": "2.7.6"
  }
 },
 "nbformat": 4,
 "nbformat_minor": 0
}
