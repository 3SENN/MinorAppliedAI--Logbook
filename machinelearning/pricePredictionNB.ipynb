{
 "cells": [
  {
   "cell_type": "markdown",
   "source": [
    "## Mobile Price Classification\n",
    "\n",
    "### About Dataset\n",
    "Bob has started his own mobile company. He wants to give tough fight to big companies like Apple,Samsung etc.\n",
    "\n",
    "He does not know how to estimate price of mobiles his company creates. In this competitive mobile phone market you cannot simply assume things. To solve this problem he collects sales data of mobile phones of various companies.\n",
    "\n",
    "Bob wants to find out some relation between features of a mobile phone(eg:- RAM,Internal Memory etc) and its selling price. But he is not so good at Machine Learning. So he needs your help to solve this problem.\n",
    "\n",
    "In this problem you do not have to predict actual price but a price range indicating how high the price is"
   ],
   "metadata": {
    "collapsed": false
   }
  },
  {
   "cell_type": "markdown",
   "source": [
    "# Import Datasets"
   ],
   "metadata": {
    "collapsed": false
   }
  },
  {
   "cell_type": "code",
   "execution_count": 1,
   "metadata": {
    "collapsed": true
   },
   "outputs": [],
   "source": [
    "import pandas as pd\n",
    "from sklearn.model_selection import train_test_split\n",
    "from sklearn.naive_bayes import BernoulliNB\n",
    "from sklearn.metrics import accuracy_score\n",
    "from sklearn.naive_bayes import MultinomialNB\n",
    "from sklearn.metrics import accuracy_score\n",
    "\n",
    "data = pd.read_csv('../datasets/mobilePrice/train.csv')\n",
    "test =  pd.read_csv('../datasets/mobilePrice/test.csv')"
   ]
  },
  {
   "cell_type": "code",
   "execution_count": 3,
   "outputs": [
    {
     "data": {
      "text/plain": "      battery_power  blue  clock_speed  dual_sim  fc  four_g  int_memory  \\\n0               842     0          2.2         0   1       0           7   \n1              1021     1          0.5         1   0       1          53   \n2               563     1          0.5         1   2       1          41   \n3               615     1          2.5         0   0       0          10   \n4              1821     1          1.2         0  13       1          44   \n...             ...   ...          ...       ...  ..     ...         ...   \n1995            794     1          0.5         1   0       1           2   \n1996           1965     1          2.6         1   0       0          39   \n1997           1911     0          0.9         1   1       1          36   \n1998           1512     0          0.9         0   4       1          46   \n1999            510     1          2.0         1   5       1          45   \n\n      m_dep  mobile_wt  n_cores  ...  px_height  px_width   ram  sc_h  sc_w  \\\n0       0.6        188        2  ...         20       756  2549     9     7   \n1       0.7        136        3  ...        905      1988  2631    17     3   \n2       0.9        145        5  ...       1263      1716  2603    11     2   \n3       0.8        131        6  ...       1216      1786  2769    16     8   \n4       0.6        141        2  ...       1208      1212  1411     8     2   \n...     ...        ...      ...  ...        ...       ...   ...   ...   ...   \n1995    0.8        106        6  ...       1222      1890   668    13     4   \n1996    0.2        187        4  ...        915      1965  2032    11    10   \n1997    0.7        108        8  ...        868      1632  3057     9     1   \n1998    0.1        145        5  ...        336       670   869    18    10   \n1999    0.9        168        6  ...        483       754  3919    19     4   \n\n      talk_time  three_g  touch_screen  wifi  price_range  \n0            19        0             0     1            1  \n1             7        1             1     0            2  \n2             9        1             1     0            2  \n3            11        1             0     0            2  \n4            15        1             1     0            1  \n...         ...      ...           ...   ...          ...  \n1995         19        1             1     0            0  \n1996         16        1             1     1            2  \n1997          5        1             1     0            3  \n1998         19        1             1     1            0  \n1999          2        1             1     1            3  \n\n[2000 rows x 21 columns]",
      "text/html": "<div>\n<style scoped>\n    .dataframe tbody tr th:only-of-type {\n        vertical-align: middle;\n    }\n\n    .dataframe tbody tr th {\n        vertical-align: top;\n    }\n\n    .dataframe thead th {\n        text-align: right;\n    }\n</style>\n<table border=\"1\" class=\"dataframe\">\n  <thead>\n    <tr style=\"text-align: right;\">\n      <th></th>\n      <th>battery_power</th>\n      <th>blue</th>\n      <th>clock_speed</th>\n      <th>dual_sim</th>\n      <th>fc</th>\n      <th>four_g</th>\n      <th>int_memory</th>\n      <th>m_dep</th>\n      <th>mobile_wt</th>\n      <th>n_cores</th>\n      <th>...</th>\n      <th>px_height</th>\n      <th>px_width</th>\n      <th>ram</th>\n      <th>sc_h</th>\n      <th>sc_w</th>\n      <th>talk_time</th>\n      <th>three_g</th>\n      <th>touch_screen</th>\n      <th>wifi</th>\n      <th>price_range</th>\n    </tr>\n  </thead>\n  <tbody>\n    <tr>\n      <th>0</th>\n      <td>842</td>\n      <td>0</td>\n      <td>2.2</td>\n      <td>0</td>\n      <td>1</td>\n      <td>0</td>\n      <td>7</td>\n      <td>0.6</td>\n      <td>188</td>\n      <td>2</td>\n      <td>...</td>\n      <td>20</td>\n      <td>756</td>\n      <td>2549</td>\n      <td>9</td>\n      <td>7</td>\n      <td>19</td>\n      <td>0</td>\n      <td>0</td>\n      <td>1</td>\n      <td>1</td>\n    </tr>\n    <tr>\n      <th>1</th>\n      <td>1021</td>\n      <td>1</td>\n      <td>0.5</td>\n      <td>1</td>\n      <td>0</td>\n      <td>1</td>\n      <td>53</td>\n      <td>0.7</td>\n      <td>136</td>\n      <td>3</td>\n      <td>...</td>\n      <td>905</td>\n      <td>1988</td>\n      <td>2631</td>\n      <td>17</td>\n      <td>3</td>\n      <td>7</td>\n      <td>1</td>\n      <td>1</td>\n      <td>0</td>\n      <td>2</td>\n    </tr>\n    <tr>\n      <th>2</th>\n      <td>563</td>\n      <td>1</td>\n      <td>0.5</td>\n      <td>1</td>\n      <td>2</td>\n      <td>1</td>\n      <td>41</td>\n      <td>0.9</td>\n      <td>145</td>\n      <td>5</td>\n      <td>...</td>\n      <td>1263</td>\n      <td>1716</td>\n      <td>2603</td>\n      <td>11</td>\n      <td>2</td>\n      <td>9</td>\n      <td>1</td>\n      <td>1</td>\n      <td>0</td>\n      <td>2</td>\n    </tr>\n    <tr>\n      <th>3</th>\n      <td>615</td>\n      <td>1</td>\n      <td>2.5</td>\n      <td>0</td>\n      <td>0</td>\n      <td>0</td>\n      <td>10</td>\n      <td>0.8</td>\n      <td>131</td>\n      <td>6</td>\n      <td>...</td>\n      <td>1216</td>\n      <td>1786</td>\n      <td>2769</td>\n      <td>16</td>\n      <td>8</td>\n      <td>11</td>\n      <td>1</td>\n      <td>0</td>\n      <td>0</td>\n      <td>2</td>\n    </tr>\n    <tr>\n      <th>4</th>\n      <td>1821</td>\n      <td>1</td>\n      <td>1.2</td>\n      <td>0</td>\n      <td>13</td>\n      <td>1</td>\n      <td>44</td>\n      <td>0.6</td>\n      <td>141</td>\n      <td>2</td>\n      <td>...</td>\n      <td>1208</td>\n      <td>1212</td>\n      <td>1411</td>\n      <td>8</td>\n      <td>2</td>\n      <td>15</td>\n      <td>1</td>\n      <td>1</td>\n      <td>0</td>\n      <td>1</td>\n    </tr>\n    <tr>\n      <th>...</th>\n      <td>...</td>\n      <td>...</td>\n      <td>...</td>\n      <td>...</td>\n      <td>...</td>\n      <td>...</td>\n      <td>...</td>\n      <td>...</td>\n      <td>...</td>\n      <td>...</td>\n      <td>...</td>\n      <td>...</td>\n      <td>...</td>\n      <td>...</td>\n      <td>...</td>\n      <td>...</td>\n      <td>...</td>\n      <td>...</td>\n      <td>...</td>\n      <td>...</td>\n      <td>...</td>\n    </tr>\n    <tr>\n      <th>1995</th>\n      <td>794</td>\n      <td>1</td>\n      <td>0.5</td>\n      <td>1</td>\n      <td>0</td>\n      <td>1</td>\n      <td>2</td>\n      <td>0.8</td>\n      <td>106</td>\n      <td>6</td>\n      <td>...</td>\n      <td>1222</td>\n      <td>1890</td>\n      <td>668</td>\n      <td>13</td>\n      <td>4</td>\n      <td>19</td>\n      <td>1</td>\n      <td>1</td>\n      <td>0</td>\n      <td>0</td>\n    </tr>\n    <tr>\n      <th>1996</th>\n      <td>1965</td>\n      <td>1</td>\n      <td>2.6</td>\n      <td>1</td>\n      <td>0</td>\n      <td>0</td>\n      <td>39</td>\n      <td>0.2</td>\n      <td>187</td>\n      <td>4</td>\n      <td>...</td>\n      <td>915</td>\n      <td>1965</td>\n      <td>2032</td>\n      <td>11</td>\n      <td>10</td>\n      <td>16</td>\n      <td>1</td>\n      <td>1</td>\n      <td>1</td>\n      <td>2</td>\n    </tr>\n    <tr>\n      <th>1997</th>\n      <td>1911</td>\n      <td>0</td>\n      <td>0.9</td>\n      <td>1</td>\n      <td>1</td>\n      <td>1</td>\n      <td>36</td>\n      <td>0.7</td>\n      <td>108</td>\n      <td>8</td>\n      <td>...</td>\n      <td>868</td>\n      <td>1632</td>\n      <td>3057</td>\n      <td>9</td>\n      <td>1</td>\n      <td>5</td>\n      <td>1</td>\n      <td>1</td>\n      <td>0</td>\n      <td>3</td>\n    </tr>\n    <tr>\n      <th>1998</th>\n      <td>1512</td>\n      <td>0</td>\n      <td>0.9</td>\n      <td>0</td>\n      <td>4</td>\n      <td>1</td>\n      <td>46</td>\n      <td>0.1</td>\n      <td>145</td>\n      <td>5</td>\n      <td>...</td>\n      <td>336</td>\n      <td>670</td>\n      <td>869</td>\n      <td>18</td>\n      <td>10</td>\n      <td>19</td>\n      <td>1</td>\n      <td>1</td>\n      <td>1</td>\n      <td>0</td>\n    </tr>\n    <tr>\n      <th>1999</th>\n      <td>510</td>\n      <td>1</td>\n      <td>2.0</td>\n      <td>1</td>\n      <td>5</td>\n      <td>1</td>\n      <td>45</td>\n      <td>0.9</td>\n      <td>168</td>\n      <td>6</td>\n      <td>...</td>\n      <td>483</td>\n      <td>754</td>\n      <td>3919</td>\n      <td>19</td>\n      <td>4</td>\n      <td>2</td>\n      <td>1</td>\n      <td>1</td>\n      <td>1</td>\n      <td>3</td>\n    </tr>\n  </tbody>\n</table>\n<p>2000 rows × 21 columns</p>\n</div>"
     },
     "execution_count": 3,
     "metadata": {},
     "output_type": "execute_result"
    }
   ],
   "source": [
    "# Preview the dataset (train)\n",
    "df = pd.DataFrame(data)\n",
    "df"
   ],
   "metadata": {
    "collapsed": false
   }
  },
  {
   "cell_type": "code",
   "execution_count": 20,
   "outputs": [],
   "source": [
    "# Preview the dataset (test)\n",
    "df_test = pd.DataFrame(test)"
   ],
   "metadata": {
    "collapsed": false
   }
  },
  {
   "cell_type": "code",
   "execution_count": 21,
   "outputs": [
    {
     "name": "stdout",
     "output_type": "stream",
     "text": [
      "0.73\n"
     ]
    }
   ],
   "source": [
    "# Find values boven 0.5 cm (drempelwaarde) en pak gemiddelde\n",
    "average_above_threshold = df[\"m_dep\"][df[\"m_dep\"] >= 0.5].mean()\n",
    "print(round(average_above_threshold,2))"
   ],
   "metadata": {
    "collapsed": false
   }
  },
  {
   "cell_type": "code",
   "execution_count": 22,
   "outputs": [
    {
     "data": {
      "text/plain": "0.5"
     },
     "execution_count": 22,
     "metadata": {},
     "output_type": "execute_result"
    }
   ],
   "source": [
    "# Replace values below 0.5 cm with gemiddelde boven de 0.5\n",
    "df.loc[df[\"m_dep\"] < 0.5, \"m_dep\"] = round(average_above_threshold, 2)\n",
    "df.m_dep.min()"
   ],
   "metadata": {
    "collapsed": false
   }
  },
  {
   "cell_type": "markdown",
   "source": [
    "### Pixel Height"
   ],
   "metadata": {
    "collapsed": false
   }
  },
  {
   "cell_type": "code",
   "execution_count": 23,
   "outputs": [
    {
     "name": "stdout",
     "output_type": "stream",
     "text": [
      "Amount of values that are under 65 pixels 90\n"
     ]
    }
   ],
   "source": [
    "amount = len(df[\"px_height\"][df[\"px_height\"] < 65])\n",
    "print(\"Amount of values that are under 65 pixels\", amount)"
   ],
   "metadata": {
    "collapsed": false
   }
  },
  {
   "cell_type": "code",
   "execution_count": 24,
   "outputs": [],
   "source": [
    "# Replace values below 65 pixels with 65 pixels\n",
    "df.loc[df[\"px_height\"] < 65, \"px_height\"] = 65"
   ],
   "metadata": {
    "collapsed": false
   }
  },
  {
   "cell_type": "markdown",
   "source": [],
   "metadata": {
    "collapsed": false
   }
  },
  {
   "cell_type": "markdown",
   "source": [
    "### Screen Width"
   ],
   "metadata": {
    "collapsed": false
   }
  },
  {
   "cell_type": "code",
   "execution_count": 25,
   "outputs": [
    {
     "name": "stdout",
     "output_type": "stream",
     "text": [
      "Amount of values that are under 2 cm 390\n"
     ]
    }
   ],
   "source": [
    "amount = len(df[\"sc_w\"][df[\"sc_w\"] < 2])\n",
    "print(\"Amount of values that are under 2 cm\", amount)"
   ],
   "metadata": {
    "collapsed": false
   }
  },
  {
   "cell_type": "code",
   "execution_count": 26,
   "outputs": [],
   "source": [
    "# Replace values below 2cm with 2cm\n",
    "df.loc[df[\"sc_w\"] < 2,\"sc_w\"] = 2"
   ],
   "metadata": {
    "collapsed": false
   }
  },
  {
   "cell_type": "markdown",
   "source": [
    "Overbodige tabellen weghalen. Bv id in test set"
   ],
   "metadata": {
    "collapsed": false
   }
  },
  {
   "cell_type": "code",
   "execution_count": 27,
   "outputs": [
    {
     "data": {
      "text/plain": "(1000, 20)"
     },
     "execution_count": 27,
     "metadata": {},
     "output_type": "execute_result"
    }
   ],
   "source": [
    "df_test.drop(['id'], axis=1, inplace=True)\n",
    "df_test.shape"
   ],
   "metadata": {
    "collapsed": false
   }
  },
  {
   "cell_type": "markdown",
   "source": [
    "# Naive Bayes\n"
   ],
   "metadata": {
    "collapsed": false
   }
  },
  {
   "cell_type": "markdown",
   "source": [],
   "metadata": {
    "collapsed": false
   }
  },
  {
   "cell_type": "code",
   "execution_count": 28,
   "outputs": [],
   "source": [
    "df2 = df"
   ],
   "metadata": {
    "collapsed": false
   }
  },
  {
   "cell_type": "markdown",
   "source": [],
   "metadata": {
    "collapsed": false
   }
  },
  {
   "cell_type": "code",
   "execution_count": 29,
   "outputs": [],
   "source": [
    "X = df2.drop('price_range', axis=1)\n",
    "y = df2['price_range'].values.reshape(-1, 1).ravel()\n",
    "\n",
    "X_train, X_test, y_train, y_test = train_test_split(X, y, test_size=0.2, random_state=42)"
   ],
   "metadata": {
    "collapsed": false
   }
  },
  {
   "cell_type": "markdown",
   "source": [],
   "metadata": {
    "collapsed": false
   }
  },
  {
   "cell_type": "markdown",
   "source": [
    "# Bernoulli Naive Bayes algorithm for binary classification"
   ],
   "metadata": {
    "collapsed": false
   }
  },
  {
   "cell_type": "code",
   "execution_count": 30,
   "outputs": [
    {
     "name": "stdout",
     "output_type": "stream",
     "text": [
      "Accuracy: 0.255\n"
     ]
    }
   ],
   "source": [
    "model =  BernoulliNB()\n",
    "model.fit(X_train, y_train)\n",
    "\n",
    "# Make predictions on the testing data\n",
    "y_pred = model.predict(X_test)\n",
    "\n",
    "# Calculate the accuracy of the model\n",
    "accuracy = accuracy_score(y_test, y_pred)\n",
    "print(f\"Accuracy: {accuracy:.3f}\")"
   ],
   "metadata": {
    "collapsed": false
   }
  },
  {
   "cell_type": "markdown",
   "source": [
    "0.255 is een slechte accuracy ik denk dat dit komt doordat het algoritme gemaakt is voor binary classification. Wat ik nu wil voorspellen is niet binary. (y heeft vier mogelijkheden)\n",
    "\n",
    "Om een betere score te krijgen wil ik het MultinomialNB algoritme gebruiken om het Naive Bayes model te trainen."
   ],
   "metadata": {
    "collapsed": false
   }
  },
  {
   "cell_type": "markdown",
   "source": [
    "# Multinomial Naive Bayes algorithm, which extends the Bernoulli Naive Bayes algorithm to handle multiple categories.\n",
    "\n",
    "Het Multinomiale Naive Bayes-algoritme is een variant van het Naive Bayes-algoritme dat specifiek is ontworpen om meerdere categorieën (klassen) te kunnen behandelen."
   ],
   "metadata": {
    "collapsed": false
   }
  },
  {
   "cell_type": "code",
   "execution_count": 31,
   "outputs": [
    {
     "name": "stdout",
     "output_type": "stream",
     "text": [
      "Accuracy: 0.547\n"
     ]
    }
   ],
   "source": [
    "# Create a Multinomial Naive Bayes model and fit it to the training data\n",
    "model = MultinomialNB()\n",
    "model.fit(X_train, y_train)\n",
    "\n",
    "# Make predictions on the testing data\n",
    "y_pred = model.predict(X_test)\n",
    "\n",
    "# Calculate the accuracy of the model\n",
    "accuracy = accuracy_score(y_test, y_pred)\n",
    "print(f\"Accuracy: {accuracy:.3f}\")\n"
   ],
   "metadata": {
    "collapsed": false
   }
  },
  {
   "cell_type": "markdown",
   "source": [
    "De accuracy is nog steeds niet wat ik wil, maar er is wel vooruitgang. MultinomialNB is eigenlijk een algoritme voor tekst classificatie. Ik denk daarom dat het nu laag scored. Model Naive Bayes is niet de beste keuze bij het voorspellen van de prijs.\n",
    "\n"
   ],
   "metadata": {
    "collapsed": false
   }
  },
  {
   "cell_type": "markdown",
   "source": [
    "# Conclusie Naive Bayes\n",
    "\n",
    "Naive Bayes algoritme is niet het juiste algoritme voor het voorspellen van de prijs van de telefoon. Dit kan je ook zien aan de accuracy scores. Eerst had ik een normale binary Naive Bayes algoritme gebruikt om mijn model te trainen. Deze gaf een score van 0.255. Dit komt doordat er 4 mogelijke prijs categorieen zijn, dus het classificeren als binary klopt niet.(Meer dan twee opties) Daarom heb ook multinomial Naive Bayes algoritme geprobeerd. Deze had het dubbele meer correct. De score was: 0.547. Hier ben eigenlijk nog steeds niet te vreden mee qua score. Ik denk dat het komt doordat Naive Bayes niet is gemaakt voor wat ik wil doen met mijn dataset.\n"
   ],
   "metadata": {
    "collapsed": false
   }
  },
  {
   "cell_type": "code",
   "execution_count": 31,
   "outputs": [],
   "source": [],
   "metadata": {
    "collapsed": false
   }
  }
 ],
 "metadata": {
  "kernelspec": {
   "display_name": "Python 3",
   "language": "python",
   "name": "python3"
  },
  "language_info": {
   "codemirror_mode": {
    "name": "ipython",
    "version": 2
   },
   "file_extension": ".py",
   "mimetype": "text/x-python",
   "name": "python",
   "nbconvert_exporter": "python",
   "pygments_lexer": "ipython2",
   "version": "2.7.6"
  }
 },
 "nbformat": 4,
 "nbformat_minor": 0
}
